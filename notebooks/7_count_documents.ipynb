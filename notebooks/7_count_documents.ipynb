{
 "cells": [
  {
   "cell_type": "markdown",
   "metadata": {},
   "source": [
    "## Documentation\n",
    "\n",
    "To read more about the count API, visit the [docs](https://www.elastic.co/guide/en/elasticsearch/reference/current/search-count.html).\n",
    "\n",
    "![count_documents_docs](../images/count_documents_docs.png)"
   ]
  },
  {
   "cell_type": "markdown",
   "metadata": {},
   "source": [
    "## Connect to ElasticSearch\n"
   ]
  },
  {
   "cell_type": "code",
   "execution_count": 1,
   "metadata": {},
   "outputs": [
    {
     "name": "stdout",
     "output_type": "stream",
     "text": [
      "{\n",
      "  name: \"ff84884348ad\",\n",
      "  cluster_name: \"docker-cluster\",\n",
      "  cluster_uuid: \"pv2aBcEGSgGBq5GJpCBNHQ\",\n",
      "  version: {\n",
      "    number: \"8.17.4\",\n",
      "    build_flavor: \"default\",\n",
      "    build_type: \"docker\",\n",
      "    build_hash: \"c63c7f5f8ce7d2e4805b7b3d842e7e792d84dda1\",\n",
      "    build_date: \"2025-03-20T15:39:59.811110136Z\",\n",
      "    build_snapshot: false,\n",
      "    lucene_version: \"9.12.0\",\n",
      "    minimum_wire_compatibility_version: \"7.17.0\",\n",
      "    minimum_index_compatibility_version: \"7.0.0\"\n",
      "  },\n",
      "  tagline: \"You Know, for Search\"\n",
      "}\n"
     ]
    }
   ],
   "source": [
    "import { Client } from \"npm:@elastic/elasticsearch\";\n",
    "\n",
    "const client = new Client({\n",
    "  node: \"http://localhost:9200\",\n",
    "  auth: {\n",
    "    apiKey: \"cnhtNzRaVUJoZTlWUmNVWWJFbGg6SktrbkY4aFlUSmE5d2dwbGJCUXdEZw\",\n",
    "  },\n",
    "});\n",
    "\n",
    "const info = await client.info();\n",
    "console.log(info);\n"
   ]
  },
  {
   "cell_type": "markdown",
   "metadata": {},
   "source": [
    "## Create index\n"
   ]
  },
  {
   "cell_type": "code",
   "execution_count": 2,
   "metadata": {},
   "outputs": [
    {
     "data": {
      "text/plain": [
       "{ acknowledged: \u001b[33mtrue\u001b[39m, shards_acknowledged: \u001b[33mtrue\u001b[39m, index: \u001b[32m\"my_index\"\u001b[39m }"
      ]
     },
     "execution_count": 2,
     "metadata": {},
     "output_type": "execute_result"
    }
   ],
   "source": [
    "await client.indices.delete({ index: \"my_index\", ignore_unavailable: true });\n",
    "await client.indices.create({ index: \"my_index\" });\n"
   ]
  },
  {
   "cell_type": "markdown",
   "metadata": {},
   "source": [
    "We are using the `dummy_data.json` file to insert multiple documents in the index. We store the id of each document in the `documentIds` list.\n"
   ]
  },
  {
   "cell_type": "code",
   "execution_count": 3,
   "metadata": {},
   "outputs": [],
   "source": [
    "import data from \"../data/dummy_data.json\" with { type: \"json\" };\n",
    "\n",
    "const documentIds = [];\n",
    "data.forEach(async (document: any) => {\n",
    "  const response = await client.index({\n",
    "    index: \"my_index\",\n",
    "    document,\n",
    "  });\n",
    "\n",
    "  documentIds.push(response._id);\n",
    "});\n"
   ]
  },
  {
   "cell_type": "code",
   "execution_count": 4,
   "metadata": {},
   "outputs": [
    {
     "data": {
      "text/plain": [
       "[\n",
       "  \u001b[32m\"h6-NAJYBIA2L3KcmyVbL\"\u001b[39m,\n",
       "  \u001b[32m\"hq-NAJYBIA2L3KcmyVbL\"\u001b[39m,\n",
       "  \u001b[32m\"iK-NAJYBIA2L3KcmyVbm\"\u001b[39m\n",
       "]"
      ]
     },
     "execution_count": 4,
     "metadata": {},
     "output_type": "execute_result"
    }
   ],
   "source": [
    "documentIds"
   ]
  },
  {
   "cell_type": "markdown",
   "metadata": {},
   "source": [
    "## Count operation"
   ]
  },
  {
   "cell_type": "markdown",
   "metadata": {},
   "source": [
    "This is an example of a successful operation. If the `ID` exists in the document, the `count` operation won't return any errors."
   ]
  },
  {
   "cell_type": "code",
   "execution_count": 5,
   "metadata": {},
   "outputs": [
    {
     "name": "stdout",
     "output_type": "stream",
     "text": [
      "The number of documents is:  3\n"
     ]
    }
   ],
   "source": [
    "const response = await client.count({ index: \"my_index\" });\n",
    "\n",
    "console.log(\"The number of documents is: \", response.count);\n"
   ]
  },
  {
   "cell_type": "markdown",
   "metadata": {},
   "source": [
    "This example shows how to use the `query` parameter to match certain criteria. "
   ]
  },
  {
   "cell_type": "code",
   "execution_count": 6,
   "metadata": {},
   "outputs": [
    {
     "name": "stdout",
     "output_type": "stream",
     "text": [
      "The number of documents is:  3\n"
     ]
    }
   ],
   "source": [
    "const query = {\n",
    "  range: {\n",
    "    createdAt: {\n",
    "      gte: \"2025-03-01\",\n",
    "      lte: \"2025-03-10\",\n",
    "      format: \"yyyy-MM-dd\",\n",
    "    },\n",
    "  },\n",
    "};\n",
    "\n",
    "const response = await client.count({ index: \"my_index\", query });\n",
    "\n",
    "console.log(\"The number of documents is: \", response.count);\n"
   ]
  }
 ],
 "metadata": {
  "kernelspec": {
   "display_name": "Deno",
   "language": "typescript",
   "name": "deno"
  },
  "language_info": {
   "codemirror_mode": "typescript",
   "file_extension": ".ts",
   "mimetype": "text/x.typescript",
   "name": "typescript",
   "nbconvert_exporter": "script",
   "pygments_lexer": "typescript",
   "version": "5.7.3"
  }
 },
 "nbformat": 4,
 "nbformat_minor": 2
}
