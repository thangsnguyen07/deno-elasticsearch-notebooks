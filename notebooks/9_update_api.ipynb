{
 "cells": [
  {
   "cell_type": "markdown",
   "metadata": {},
   "source": [
    "## Documentation\n",
    "\n",
    "To read more about the update API, visit the [docs](https://www.elastic.co/guide/en/elasticsearch/reference/current/docs-update.html).\n",
    "\n",
    "![update_api_docs](../images/update_api_docs.png)"
   ]
  },
  {
   "cell_type": "markdown",
   "metadata": {},
   "source": [
    "## Connect to ElasticSearch\n"
   ]
  },
  {
   "cell_type": "code",
   "execution_count": 2,
   "metadata": {},
   "outputs": [
    {
     "name": "stdout",
     "output_type": "stream",
     "text": [
      "{\n",
      "  name: \"ff84884348ad\",\n",
      "  cluster_name: \"docker-cluster\",\n",
      "  cluster_uuid: \"pv2aBcEGSgGBq5GJpCBNHQ\",\n",
      "  version: {\n",
      "    number: \"8.17.4\",\n",
      "    build_flavor: \"default\",\n",
      "    build_type: \"docker\",\n",
      "    build_hash: \"c63c7f5f8ce7d2e4805b7b3d842e7e792d84dda1\",\n",
      "    build_date: \"2025-03-20T15:39:59.811110136Z\",\n",
      "    build_snapshot: false,\n",
      "    lucene_version: \"9.12.0\",\n",
      "    minimum_wire_compatibility_version: \"7.17.0\",\n",
      "    minimum_index_compatibility_version: \"7.0.0\"\n",
      "  },\n",
      "  tagline: \"You Know, for Search\"\n",
      "}\n"
     ]
    }
   ],
   "source": [
    "import { Client } from \"npm:@elastic/elasticsearch\";\n",
    "\n",
    "const client = new Client({\n",
    "  node: \"http://localhost:9200\",\n",
    "  auth: {\n",
    "    apiKey: \"cnhtNzRaVUJoZTlWUmNVWWJFbGg6SktrbkY4aFlUSmE5d2dwbGJCUXdEZw\",\n",
    "  },\n",
    "});\n",
    "\n",
    "const info = await client.info();\n",
    "console.log(info);\n"
   ]
  },
  {
   "cell_type": "markdown",
   "metadata": {},
   "source": [
    "## Create index\n"
   ]
  },
  {
   "cell_type": "code",
   "execution_count": 3,
   "metadata": {},
   "outputs": [
    {
     "data": {
      "text/plain": [
       "{ acknowledged: \u001b[33mtrue\u001b[39m, shards_acknowledged: \u001b[33mtrue\u001b[39m, index: \u001b[32m\"my_index\"\u001b[39m }"
      ]
     },
     "execution_count": 3,
     "metadata": {},
     "output_type": "execute_result"
    }
   ],
   "source": [
    "await client.indices.delete({ index: \"my_index\", ignore_unavailable: true });\n",
    "await client.indices.create({ index: \"my_index\" });\n"
   ]
  },
  {
   "cell_type": "markdown",
   "metadata": {},
   "source": [
    "We are using the `dummy_data.json` file to insert multiple documents in the index. We store the id of each document in the `documentIds` list.\n"
   ]
  },
  {
   "cell_type": "code",
   "execution_count": 4,
   "metadata": {},
   "outputs": [],
   "source": [
    "import data from \"../data/dummy_data.json\" with { type: \"json\" };\n",
    "\n",
    "const documentIds = [];\n",
    "data.forEach(async (document: any) => {\n",
    "  const response = await client.index({\n",
    "    index: \"my_index\",\n",
    "    document,\n",
    "  });\n",
    "\n",
    "  documentIds.push(response._id);\n",
    "});\n"
   ]
  },
  {
   "cell_type": "code",
   "execution_count": 5,
   "metadata": {},
   "outputs": [
    {
     "data": {
      "text/plain": [
       "[\n",
       "  \u001b[32m\"k6-tAJYBIA2L3Kcm21Z5\"\u001b[39m,\n",
       "  \u001b[32m\"lK-tAJYBIA2L3Kcm21aP\"\u001b[39m,\n",
       "  \u001b[32m\"kq-tAJYBIA2L3Kcm21Z5\"\u001b[39m\n",
       "]"
      ]
     },
     "execution_count": 5,
     "metadata": {},
     "output_type": "execute_result"
    }
   ],
   "source": [
    "documentIds"
   ]
  },
  {
   "cell_type": "markdown",
   "metadata": {},
   "source": [
    "## Update API"
   ]
  },
  {
   "cell_type": "markdown",
   "metadata": {},
   "source": [
    "### 1. If documents exists in the index"
   ]
  },
  {
   "cell_type": "markdown",
   "metadata": {},
   "source": [
    "If both `doc` and `script` are specified, then `doc` is ignored. If you specify a scripted update, include the fields you want to update in the script."
   ]
  },
  {
   "cell_type": "markdown",
   "metadata": {},
   "source": [
    "#### 1.1 Update an existing field"
   ]
  },
  {
   "cell_type": "markdown",
   "metadata": {},
   "source": [
    "##### 1.1.1 Method 1 (Doc)"
   ]
  },
  {
   "cell_type": "code",
   "execution_count": 6,
   "metadata": {},
   "outputs": [
    {
     "data": {
      "text/plain": [
       "{\n",
       "  _index: \u001b[32m\"my_index\"\u001b[39m,\n",
       "  _id: \u001b[32m\"k6-tAJYBIA2L3Kcm21Z5\"\u001b[39m,\n",
       "  _version: \u001b[33m2\u001b[39m,\n",
       "  result: \u001b[32m\"updated\"\u001b[39m,\n",
       "  _shards: { total: \u001b[33m2\u001b[39m, successful: \u001b[33m1\u001b[39m, failed: \u001b[33m0\u001b[39m },\n",
       "  _seq_no: \u001b[33m3\u001b[39m,\n",
       "  _primary_term: \u001b[33m1\u001b[39m\n",
       "}"
      ]
     },
     "execution_count": 6,
     "metadata": {},
     "output_type": "execute_result"
    }
   ],
   "source": [
    "await client.update({\n",
    "  index: \"my_index\",\n",
    "  id: documentIds[0],\n",
    "  doc: {\n",
    "    title: \"Updated Title\",\n",
    "  },\n",
    "});\n"
   ]
  },
  {
   "cell_type": "code",
   "execution_count": 7,
   "metadata": {},
   "outputs": [
    {
     "data": {
      "text/plain": [
       "{\n",
       "  _index: \u001b[32m\"my_index\"\u001b[39m,\n",
       "  _id: \u001b[32m\"k6-tAJYBIA2L3Kcm21Z5\"\u001b[39m,\n",
       "  _version: \u001b[33m2\u001b[39m,\n",
       "  _seq_no: \u001b[33m3\u001b[39m,\n",
       "  _primary_term: \u001b[33m1\u001b[39m,\n",
       "  found: \u001b[33mtrue\u001b[39m,\n",
       "  _source: {\n",
       "    title: \u001b[32m\"Updated Title\"\u001b[39m,\n",
       "    text: \u001b[32m\"Here is another example of a document.\"\u001b[39m,\n",
       "    createdAt: \u001b[32m\"2025-03-02\"\u001b[39m\n",
       "  }\n",
       "}"
      ]
     },
     "execution_count": 7,
     "metadata": {},
     "output_type": "execute_result"
    }
   ],
   "source": [
    "await client.get({\n",
    "  index: \"my_index\",\n",
    "  id: documentIds[0],\n",
    "})"
   ]
  },
  {
   "cell_type": "markdown",
   "metadata": {},
   "source": [
    "##### 1.1.2 Method 2 (Script)"
   ]
  },
  {
   "cell_type": "code",
   "execution_count": 8,
   "metadata": {},
   "outputs": [
    {
     "data": {
      "text/plain": [
       "{\n",
       "  _index: \u001b[32m\"my_index\"\u001b[39m,\n",
       "  _id: \u001b[32m\"lK-tAJYBIA2L3Kcm21aP\"\u001b[39m,\n",
       "  _version: \u001b[33m2\u001b[39m,\n",
       "  result: \u001b[32m\"updated\"\u001b[39m,\n",
       "  _shards: { total: \u001b[33m2\u001b[39m, successful: \u001b[33m1\u001b[39m, failed: \u001b[33m0\u001b[39m },\n",
       "  _seq_no: \u001b[33m4\u001b[39m,\n",
       "  _primary_term: \u001b[33m1\u001b[39m\n",
       "}"
      ]
     },
     "execution_count": 8,
     "metadata": {},
     "output_type": "execute_result"
    }
   ],
   "source": [
    "await client.update({\n",
    "  index: \"my_index\",\n",
    "  id: documentIds[1],\n",
    "  script: {\n",
    "    source: \"ctx._source.title = params.title\",\n",
    "    params: {\n",
    "      title: \"Updated Title 2\",\n",
    "    },\n",
    "  }\n",
    "})"
   ]
  },
  {
   "cell_type": "code",
   "execution_count": 9,
   "metadata": {},
   "outputs": [
    {
     "data": {
      "text/plain": [
       "{\n",
       "  _index: \u001b[32m\"my_index\"\u001b[39m,\n",
       "  _id: \u001b[32m\"lK-tAJYBIA2L3Kcm21aP\"\u001b[39m,\n",
       "  _version: \u001b[33m2\u001b[39m,\n",
       "  _seq_no: \u001b[33m4\u001b[39m,\n",
       "  _primary_term: \u001b[33m1\u001b[39m,\n",
       "  found: \u001b[33mtrue\u001b[39m,\n",
       "  _source: {\n",
       "    title: \u001b[32m\"Updated Title 2\"\u001b[39m,\n",
       "    text: \u001b[32m\"The content of the third document goes here.\"\u001b[39m,\n",
       "    createdAt: \u001b[32m\"2025-03-03\"\u001b[39m\n",
       "  }\n",
       "}"
      ]
     },
     "execution_count": 9,
     "metadata": {},
     "output_type": "execute_result"
    }
   ],
   "source": [
    "await client.get({\n",
    "  index: \"my_index\",\n",
    "  id: documentIds[1],\n",
    "});\n"
   ]
  },
  {
   "cell_type": "markdown",
   "metadata": {},
   "source": [
    "#### 1.2 Add a new field"
   ]
  },
  {
   "cell_type": "markdown",
   "metadata": {},
   "source": [
    "To add a new field, you can either use the `script` argument or the `doc` argument."
   ]
  },
  {
   "cell_type": "markdown",
   "metadata": {},
   "source": [
    "##### 1.2.1 Method 1 (Doc)"
   ]
  },
  {
   "cell_type": "code",
   "execution_count": 10,
   "metadata": {},
   "outputs": [
    {
     "data": {
      "text/plain": [
       "{\n",
       "  _index: \u001b[32m\"my_index\"\u001b[39m,\n",
       "  _id: \u001b[32m\"k6-tAJYBIA2L3Kcm21Z5\"\u001b[39m,\n",
       "  _version: \u001b[33m3\u001b[39m,\n",
       "  result: \u001b[32m\"updated\"\u001b[39m,\n",
       "  _shards: { total: \u001b[33m2\u001b[39m, successful: \u001b[33m1\u001b[39m, failed: \u001b[33m0\u001b[39m },\n",
       "  _seq_no: \u001b[33m5\u001b[39m,\n",
       "  _primary_term: \u001b[33m1\u001b[39m\n",
       "}"
      ]
     },
     "execution_count": 10,
     "metadata": {},
     "output_type": "execute_result"
    }
   ],
   "source": [
    "await client.update({\n",
    "  index: \"my_index\",\n",
    "  id: documentIds[0],\n",
    "  doc: {\n",
    "    newFieldDoc: \"New Field Doc\",\n",
    "  },\n",
    "});"
   ]
  },
  {
   "cell_type": "code",
   "execution_count": 11,
   "metadata": {},
   "outputs": [
    {
     "data": {
      "text/plain": [
       "{\n",
       "  _index: \u001b[32m\"my_index\"\u001b[39m,\n",
       "  _id: \u001b[32m\"k6-tAJYBIA2L3Kcm21Z5\"\u001b[39m,\n",
       "  _version: \u001b[33m3\u001b[39m,\n",
       "  _seq_no: \u001b[33m5\u001b[39m,\n",
       "  _primary_term: \u001b[33m1\u001b[39m,\n",
       "  found: \u001b[33mtrue\u001b[39m,\n",
       "  _source: {\n",
       "    title: \u001b[32m\"Updated Title\"\u001b[39m,\n",
       "    text: \u001b[32m\"Here is another example of a document.\"\u001b[39m,\n",
       "    createdAt: \u001b[32m\"2025-03-02\"\u001b[39m,\n",
       "    newFieldDoc: \u001b[32m\"New Field Doc\"\u001b[39m\n",
       "  }\n",
       "}"
      ]
     },
     "execution_count": 11,
     "metadata": {},
     "output_type": "execute_result"
    }
   ],
   "source": [
    "await client.get({\n",
    "  index: \"my_index\",\n",
    "  id: documentIds[0],\n",
    "});\n"
   ]
  },
  {
   "cell_type": "markdown",
   "metadata": {},
   "source": [
    "##### 1.2.2 Method 2 (Script)"
   ]
  },
  {
   "cell_type": "code",
   "execution_count": 12,
   "metadata": {},
   "outputs": [
    {
     "data": {
      "text/plain": [
       "{\n",
       "  _index: \u001b[32m\"my_index\"\u001b[39m,\n",
       "  _id: \u001b[32m\"k6-tAJYBIA2L3Kcm21Z5\"\u001b[39m,\n",
       "  _version: \u001b[33m4\u001b[39m,\n",
       "  result: \u001b[32m\"updated\"\u001b[39m,\n",
       "  _shards: { total: \u001b[33m2\u001b[39m, successful: \u001b[33m1\u001b[39m, failed: \u001b[33m0\u001b[39m },\n",
       "  _seq_no: \u001b[33m6\u001b[39m,\n",
       "  _primary_term: \u001b[33m1\u001b[39m\n",
       "}"
      ]
     },
     "execution_count": 12,
     "metadata": {},
     "output_type": "execute_result"
    }
   ],
   "source": [
    "await client.update({\n",
    "  index: \"my_index\",\n",
    "  id: documentIds[0],\n",
    "  script: {\n",
    "    source: \"ctx._source.newFieldScript = params.newFieldScript\",\n",
    "    params: {\n",
    "      newFieldScript: \"New Field Script\",\n",
    "    },\n",
    "  },\n",
    "});\n"
   ]
  },
  {
   "cell_type": "code",
   "execution_count": 13,
   "metadata": {},
   "outputs": [
    {
     "data": {
      "text/plain": [
       "{\n",
       "  _index: \u001b[32m\"my_index\"\u001b[39m,\n",
       "  _id: \u001b[32m\"k6-tAJYBIA2L3Kcm21Z5\"\u001b[39m,\n",
       "  _version: \u001b[33m4\u001b[39m,\n",
       "  _seq_no: \u001b[33m6\u001b[39m,\n",
       "  _primary_term: \u001b[33m1\u001b[39m,\n",
       "  found: \u001b[33mtrue\u001b[39m,\n",
       "  _source: {\n",
       "    title: \u001b[32m\"Updated Title\"\u001b[39m,\n",
       "    text: \u001b[32m\"Here is another example of a document.\"\u001b[39m,\n",
       "    createdAt: \u001b[32m\"2025-03-02\"\u001b[39m,\n",
       "    newFieldDoc: \u001b[32m\"New Field Doc\"\u001b[39m,\n",
       "    newFieldScript: \u001b[32m\"New Field Script\"\u001b[39m\n",
       "  }\n",
       "}"
      ]
     },
     "execution_count": 13,
     "metadata": {},
     "output_type": "execute_result"
    }
   ],
   "source": [
    "await client.get({\n",
    "  index: \"my_index\",\n",
    "  id: documentIds[0],\n",
    "});\n"
   ]
  },
  {
   "cell_type": "markdown",
   "metadata": {},
   "source": [
    "#### 1.3 Remove a field"
   ]
  },
  {
   "cell_type": "code",
   "execution_count": 14,
   "metadata": {},
   "outputs": [
    {
     "data": {
      "text/plain": [
       "{\n",
       "  _index: \u001b[32m\"my_index\"\u001b[39m,\n",
       "  _id: \u001b[32m\"k6-tAJYBIA2L3Kcm21Z5\"\u001b[39m,\n",
       "  _version: \u001b[33m5\u001b[39m,\n",
       "  result: \u001b[32m\"updated\"\u001b[39m,\n",
       "  _shards: { total: \u001b[33m2\u001b[39m, successful: \u001b[33m1\u001b[39m, failed: \u001b[33m0\u001b[39m },\n",
       "  _seq_no: \u001b[33m7\u001b[39m,\n",
       "  _primary_term: \u001b[33m1\u001b[39m\n",
       "}"
      ]
     },
     "execution_count": 14,
     "metadata": {},
     "output_type": "execute_result"
    }
   ],
   "source": [
    "await client.update({\n",
    "  index: \"my_index\",\n",
    "  id: documentIds[0],\n",
    "  script: {\n",
    "    source: \"ctx._source.remove('newFieldDoc')\",\n",
    "  },\n",
    "});\n"
   ]
  },
  {
   "cell_type": "code",
   "execution_count": 15,
   "metadata": {},
   "outputs": [
    {
     "data": {
      "text/plain": [
       "{\n",
       "  _index: \u001b[32m\"my_index\"\u001b[39m,\n",
       "  _id: \u001b[32m\"k6-tAJYBIA2L3Kcm21Z5\"\u001b[39m,\n",
       "  _version: \u001b[33m5\u001b[39m,\n",
       "  _seq_no: \u001b[33m7\u001b[39m,\n",
       "  _primary_term: \u001b[33m1\u001b[39m,\n",
       "  found: \u001b[33mtrue\u001b[39m,\n",
       "  _source: {\n",
       "    title: \u001b[32m\"Updated Title\"\u001b[39m,\n",
       "    text: \u001b[32m\"Here is another example of a document.\"\u001b[39m,\n",
       "    createdAt: \u001b[32m\"2025-03-02\"\u001b[39m,\n",
       "    newFieldScript: \u001b[32m\"New Field Script\"\u001b[39m\n",
       "  }\n",
       "}"
      ]
     },
     "execution_count": 15,
     "metadata": {},
     "output_type": "execute_result"
    }
   ],
   "source": [
    "await client.get({\n",
    "  index: \"my_index\",\n",
    "  id: documentIds[0],\n",
    "});\n"
   ]
  },
  {
   "cell_type": "markdown",
   "metadata": {},
   "source": [
    "### 2. If documents doesn't exist in the index"
   ]
  },
  {
   "cell_type": "markdown",
   "metadata": {},
   "source": [
    "We use `doc_as_upsert` to tell Elasticsearch that if the document does not exist, it should be inserted as a new document."
   ]
  },
  {
   "cell_type": "code",
   "execution_count": 16,
   "metadata": {},
   "outputs": [
    {
     "data": {
      "text/plain": [
       "{\n",
       "  _index: \u001b[32m\"my_index\"\u001b[39m,\n",
       "  _id: \u001b[32m\"does_not_exist\"\u001b[39m,\n",
       "  _version: \u001b[33m1\u001b[39m,\n",
       "  result: \u001b[32m\"created\"\u001b[39m,\n",
       "  _shards: { total: \u001b[33m2\u001b[39m, successful: \u001b[33m1\u001b[39m, failed: \u001b[33m0\u001b[39m },\n",
       "  _seq_no: \u001b[33m8\u001b[39m,\n",
       "  _primary_term: \u001b[33m1\u001b[39m\n",
       "}"
      ]
     },
     "execution_count": 16,
     "metadata": {},
     "output_type": "execute_result"
    }
   ],
   "source": [
    "await client.update({\n",
    "  index: \"my_index\",\n",
    "  id: 'does_not_exist',\n",
    "  doc: {\n",
    "    title: \"New Document\",\n",
    "    text: \"This is a new document\",\n",
    "  },\n",
    "  doc_as_upsert: true,\n",
    "});\n"
   ]
  },
  {
   "cell_type": "markdown",
   "metadata": {},
   "source": [
    "Count documents after upsert"
   ]
  },
  {
   "cell_type": "code",
   "execution_count": 17,
   "metadata": {},
   "outputs": [
    {
     "data": {
      "text/plain": [
       "{\n",
       "  count: \u001b[33m4\u001b[39m,\n",
       "  _shards: { total: \u001b[33m1\u001b[39m, successful: \u001b[33m1\u001b[39m, skipped: \u001b[33m0\u001b[39m, failed: \u001b[33m0\u001b[39m }\n",
       "}"
      ]
     },
     "execution_count": 17,
     "metadata": {},
     "output_type": "execute_result"
    }
   ],
   "source": [
    "await client.count({\n",
    "  index: \"my_index\",\n",
    "});\n"
   ]
  }
 ],
 "metadata": {
  "kernelspec": {
   "display_name": "Deno",
   "language": "typescript",
   "name": "deno"
  },
  "language_info": {
   "codemirror_mode": "typescript",
   "file_extension": ".ts",
   "mimetype": "text/x.typescript",
   "name": "typescript",
   "nbconvert_exporter": "script",
   "pygments_lexer": "typescript",
   "version": "5.7.3"
  }
 },
 "nbformat": 4,
 "nbformat_minor": 2
}
