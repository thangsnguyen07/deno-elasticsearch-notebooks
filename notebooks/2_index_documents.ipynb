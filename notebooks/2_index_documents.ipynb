{
 "cells": [
  {
   "cell_type": "markdown",
   "metadata": {},
   "source": [
    "## Documentation\n",
    "\n",
    "To read more about the index API, visit the [docs](https://www.elastic.co/guide/en/elasticsearch/reference/current/docs-index_.html).\n",
    "\n",
    "![index_documents_docs](../images/index_documents_docs.png)\n"
   ]
  },
  {
   "cell_type": "markdown",
   "metadata": {},
   "source": [
    "## Connect to ElasticSearch\n"
   ]
  },
  {
   "cell_type": "code",
   "execution_count": 5,
   "metadata": {},
   "outputs": [
    {
     "name": "stdout",
     "output_type": "stream",
     "text": [
      "{\n",
      "  name: \"ff84884348ad\",\n",
      "  cluster_name: \"docker-cluster\",\n",
      "  cluster_uuid: \"pv2aBcEGSgGBq5GJpCBNHQ\",\n",
      "  version: {\n",
      "    number: \"8.17.4\",\n",
      "    build_flavor: \"default\",\n",
      "    build_type: \"docker\",\n",
      "    build_hash: \"c63c7f5f8ce7d2e4805b7b3d842e7e792d84dda1\",\n",
      "    build_date: \"2025-03-20T15:39:59.811110136Z\",\n",
      "    build_snapshot: false,\n",
      "    lucene_version: \"9.12.0\",\n",
      "    minimum_wire_compatibility_version: \"7.17.0\",\n",
      "    minimum_index_compatibility_version: \"7.0.0\"\n",
      "  },\n",
      "  tagline: \"You Know, for Search\"\n",
      "}\n"
     ]
    }
   ],
   "source": [
    "import { Client } from \"npm:@elastic/elasticsearch\";\n",
    "\n",
    "const client = new Client({\n",
    "  node: \"http://localhost:9200\",\n",
    "  auth: {\n",
    "    apiKey: \"cnhtNzRaVUJoZTlWUmNVWWJFbGg6SktrbkY4aFlUSmE5d2dwbGJCUXdEZw\",\n",
    "  },\n",
    "});\n",
    "\n",
    "const info = await client.info();\n",
    "console.log(info);\n"
   ]
  },
  {
   "cell_type": "markdown",
   "metadata": {},
   "source": [
    "## Insert one document\n"
   ]
  },
  {
   "cell_type": "markdown",
   "metadata": {},
   "source": [
    "Create a dummy index just to test inserting one document\n"
   ]
  },
  {
   "cell_type": "code",
   "execution_count": 6,
   "metadata": {},
   "outputs": [
    {
     "data": {
      "text/plain": [
       "{ acknowledged: \u001b[33mtrue\u001b[39m, shards_acknowledged: \u001b[33mtrue\u001b[39m, index: \u001b[32m\"my_index\"\u001b[39m }"
      ]
     },
     "execution_count": 6,
     "metadata": {},
     "output_type": "execute_result"
    }
   ],
   "source": [
    "await client.indices.delete({ index: \"my_index\" });\n",
    "await client.indices.create({ index: \"my_index\" });\n"
   ]
  },
  {
   "cell_type": "code",
   "execution_count": 7,
   "metadata": {},
   "outputs": [
    {
     "data": {
      "text/plain": [
       "{\n",
       "  _index: \u001b[32m\"my_index\"\u001b[39m,\n",
       "  _id: \u001b[32m\"61Zq-pUB8WBOE6m40YYD\"\u001b[39m,\n",
       "  _version: \u001b[33m1\u001b[39m,\n",
       "  result: \u001b[32m\"created\"\u001b[39m,\n",
       "  _shards: { total: \u001b[33m2\u001b[39m, successful: \u001b[33m1\u001b[39m, failed: \u001b[33m0\u001b[39m },\n",
       "  _seq_no: \u001b[33m3\u001b[39m,\n",
       "  _primary_term: \u001b[33m1\u001b[39m\n",
       "}"
      ]
     },
     "execution_count": 7,
     "metadata": {},
     "output_type": "execute_result"
    }
   ],
   "source": [
    "const document = {\n",
    "  title: \"title\",\n",
    "  text: \"text\",\n",
    "  created_on: \"2024-09-22\",\n",
    "};\n",
    "await client.index({ index: \"my_index\", document });\n"
   ]
  },
  {
   "cell_type": "markdown",
   "metadata": {},
   "source": [
    "## Insert multiple documents\n"
   ]
  },
  {
   "cell_type": "markdown",
   "metadata": {},
   "source": [
    "Prepare dummy data\n"
   ]
  },
  {
   "cell_type": "code",
   "execution_count": 7,
   "metadata": {},
   "outputs": [
    {
     "name": "stdout",
     "output_type": "stream",
     "text": [
      "[\n",
      "  {\n",
      "    title: \"Title 1\",\n",
      "    text: \"This is the first sample document text.\",\n",
      "    createdAt: \"2025-03-01\"\n",
      "  },\n",
      "  {\n",
      "    title: \"Title 2\",\n",
      "    text: \"Here is another example of a document.\",\n",
      "    createdAt: \"2024-03-02\"\n",
      "  },\n",
      "  {\n",
      "    title: \"Title 3\",\n",
      "    text: \"The content of the third document goes here.\",\n",
      "    createdAt: \"2024-03-03\"\n",
      "  }\n",
      "]\n"
     ]
    }
   ],
   "source": [
    "import data from \"../data/dummy_data.json\" with { type: \"json\" };\n",
    "\n",
    "console.log(data);"
   ]
  },
  {
   "cell_type": "code",
   "execution_count": null,
   "metadata": {},
   "outputs": [
    {
     "name": "stdout",
     "output_type": "stream",
     "text": [
      "{\n",
      "  _index: \"my_index\",\n",
      "  _id: \"-FZ6-pUB8WBOE6m4Z4Y9\",\n",
      "  _version: 1,\n",
      "  result: \"created\",\n",
      "  _shards: { total: 2, successful: 1, failed: 0 },\n",
      "  _seq_no: 1,\n",
      "  _primary_term: 1\n",
      "}\n",
      "{\n",
      "  _index: \"my_index\",\n",
      "  _id: \"-lZ6-pUB8WBOE6m4Z4Y9\",\n",
      "  _version: 1,\n",
      "  result: \"created\",\n",
      "  _shards: { total: 2, successful: 1, failed: 0 },\n",
      "  _seq_no: 0,\n",
      "  _primary_term: 1\n",
      "}\n",
      "{\n",
      "  _index: \"my_index\",\n",
      "  _id: \"-VZ6-pUB8WBOE6m4Z4Y9\",\n",
      "  _version: 1,\n",
      "  result: \"created\",\n",
      "  _shards: { total: 2, successful: 1, failed: 0 },\n",
      "  _seq_no: 2,\n",
      "  _primary_term: 1\n",
      "}\n"
     ]
    }
   ],
   "source": [
    "async function insertDocument(index: string, document: any) {\n",
    "  return await client.index({\n",
    "    index,\n",
    "    document,\n",
    "  });\n",
    "}\n",
    "\n",
    "data.forEach(async (document: any) => {\n",
    "  const response = await insertDocument(\"my_index\", document);\n",
    "  console.log(response);\n",
    "});\n"
   ]
  }
 ],
 "metadata": {
  "kernelspec": {
   "display_name": "Deno",
   "language": "typescript",
   "name": "deno"
  },
  "language_info": {
   "codemirror_mode": "typescript",
   "file_extension": ".ts",
   "mimetype": "text/x.typescript",
   "name": "typescript",
   "nbconvert_exporter": "script",
   "pygments_lexer": "typescript",
   "version": "5.7.3"
  }
 },
 "nbformat": 4,
 "nbformat_minor": 2
}
