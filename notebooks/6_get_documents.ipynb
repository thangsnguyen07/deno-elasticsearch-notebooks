{
 "cells": [
  {
   "cell_type": "markdown",
   "metadata": {},
   "source": [
    "## Documentation\n",
    "\n",
    "To read more about the get API, visit the [docs](https://www.elastic.co/guide/en/elasticsearch/reference/current/docs-get.html).\n",
    "\n",
    "![get_documents_docs](../images/get_documents_docs.png)"
   ]
  },
  {
   "cell_type": "markdown",
   "metadata": {},
   "source": [
    "## Connect to ElasticSearch\n"
   ]
  },
  {
   "cell_type": "code",
   "execution_count": 2,
   "metadata": {},
   "outputs": [
    {
     "name": "stdout",
     "output_type": "stream",
     "text": [
      "{\n",
      "  name: \"ff84884348ad\",\n",
      "  cluster_name: \"docker-cluster\",\n",
      "  cluster_uuid: \"pv2aBcEGSgGBq5GJpCBNHQ\",\n",
      "  version: {\n",
      "    number: \"8.17.4\",\n",
      "    build_flavor: \"default\",\n",
      "    build_type: \"docker\",\n",
      "    build_hash: \"c63c7f5f8ce7d2e4805b7b3d842e7e792d84dda1\",\n",
      "    build_date: \"2025-03-20T15:39:59.811110136Z\",\n",
      "    build_snapshot: false,\n",
      "    lucene_version: \"9.12.0\",\n",
      "    minimum_wire_compatibility_version: \"7.17.0\",\n",
      "    minimum_index_compatibility_version: \"7.0.0\"\n",
      "  },\n",
      "  tagline: \"You Know, for Search\"\n",
      "}\n"
     ]
    }
   ],
   "source": [
    "import { Client } from \"npm:@elastic/elasticsearch\";\n",
    "\n",
    "const client = new Client({\n",
    "  node: \"http://localhost:9200\",\n",
    "  auth: {\n",
    "    apiKey: \"cnhtNzRaVUJoZTlWUmNVWWJFbGg6SktrbkY4aFlUSmE5d2dwbGJCUXdEZw\",\n",
    "  },\n",
    "});\n",
    "\n",
    "const info = await client.info();\n",
    "console.log(info);\n"
   ]
  },
  {
   "cell_type": "markdown",
   "metadata": {},
   "source": [
    "## Create index\n"
   ]
  },
  {
   "cell_type": "code",
   "execution_count": 8,
   "metadata": {},
   "outputs": [
    {
     "data": {
      "text/plain": [
       "{ acknowledged: \u001b[33mtrue\u001b[39m, shards_acknowledged: \u001b[33mtrue\u001b[39m, index: \u001b[32m\"my_index\"\u001b[39m }"
      ]
     },
     "execution_count": 8,
     "metadata": {},
     "output_type": "execute_result"
    }
   ],
   "source": [
    "await client.indices.delete({ index: \"my_index\", ignore_unavailable: true });\n",
    "await client.indices.create({ index: \"my_index\" });\n"
   ]
  },
  {
   "cell_type": "markdown",
   "metadata": {},
   "source": [
    "We are using the `dummy_data.json` file to insert multiple documents in the index. We store the id of each document in the `documentIds` list.\n"
   ]
  },
  {
   "cell_type": "code",
   "execution_count": 9,
   "metadata": {},
   "outputs": [],
   "source": [
    "import data from \"../data/dummy_data.json\" with { type: \"json\" };\n",
    "\n",
    "const documentIds = [];\n",
    "data.forEach(async (document: any) => {\n",
    "  const response = await client.index({\n",
    "    index: \"my_index\",\n",
    "    document,\n",
    "  });\n",
    "\n",
    "  documentIds.push(response._id);\n",
    "});\n"
   ]
  },
  {
   "cell_type": "code",
   "execution_count": 10,
   "metadata": {},
   "outputs": [
    {
     "data": {
      "text/plain": [
       "[\n",
       "  \u001b[32m\"gK98AJYBIA2L3KcmZ1Y4\"\u001b[39m,\n",
       "  \u001b[32m\"ga98AJYBIA2L3KcmZ1Y4\"\u001b[39m,\n",
       "  \u001b[32m\"gq98AJYBIA2L3KcmZ1Y4\"\u001b[39m\n",
       "]"
      ]
     },
     "execution_count": 10,
     "metadata": {},
     "output_type": "execute_result"
    }
   ],
   "source": [
    "documentIds"
   ]
  },
  {
   "cell_type": "markdown",
   "metadata": {},
   "source": [
    "## Get operation"
   ]
  },
  {
   "cell_type": "markdown",
   "metadata": {},
   "source": [
    "This is an example of a successful operation. If the `ID` exists in the document, the `get` operation won't return any errors."
   ]
  },
  {
   "cell_type": "code",
   "execution_count": 11,
   "metadata": {},
   "outputs": [
    {
     "data": {
      "text/plain": [
       "{\n",
       "  _index: \u001b[32m\"my_index\"\u001b[39m,\n",
       "  _id: \u001b[32m\"gK98AJYBIA2L3KcmZ1Y4\"\u001b[39m,\n",
       "  _version: \u001b[33m1\u001b[39m,\n",
       "  _seq_no: \u001b[33m1\u001b[39m,\n",
       "  _primary_term: \u001b[33m1\u001b[39m,\n",
       "  found: \u001b[33mtrue\u001b[39m,\n",
       "  _source: {\n",
       "    title: \u001b[32m\"Title 1\"\u001b[39m,\n",
       "    text: \u001b[32m\"This is the first sample document text.\"\u001b[39m,\n",
       "    createdAt: \u001b[32m\"2025-03-01\"\u001b[39m\n",
       "  }\n",
       "}"
      ]
     },
     "execution_count": 11,
     "metadata": {},
     "output_type": "execute_result"
    }
   ],
   "source": [
    "await client.get({\n",
    "  index: \"my_index\",\n",
    "  id: documentIds[0],\n",
    "});\n"
   ]
  },
  {
   "cell_type": "markdown",
   "metadata": {},
   "source": [
    "This example shows that the `get` operation fails when providing it with an `ID` that does not exist in the index."
   ]
  },
  {
   "cell_type": "code",
   "execution_count": 12,
   "metadata": {},
   "outputs": [
    {
     "name": "stdout",
     "output_type": "stream",
     "text": [
      "ResponseError: {\"_index\":\"my_index\",\"_id\":\"does_not_exist\",\"found\":false}\n",
      "    at SniffingTransport._request (file:///C:/Users/PC/AppData/Local/deno/npm/registry.npmjs.org/@elastic/transport/8.9.5/lib/Transport.js:543:27)\n",
      "    at Object.runMicrotasks (ext:core/01_core.js:692:26)\n",
      "    at processTicksAndRejections (ext:deno_node/_next_tick.ts:59:10)\n",
      "    at runNextTicks (ext:deno_node/_next_tick.ts:76:3)\n",
      "    at eventLoopTick (ext:core/01_core.js:185:21)\n",
      "    at async file:///C:/Users/PC/AppData/Local/deno/npm/registry.npmjs.org/@elastic/transport/8.9.5/lib/Transport.js:641:32\n",
      "    at async SniffingTransport.request (file:///C:/Users/PC/AppData/Local/deno/npm/registry.npmjs.org/@elastic/transport/8.9.5/lib/Transport.js:637:20)\n",
      "    at async Client.GetApi [as get] (file:///C:/Users/PC/AppData/Local/deno/npm/registry.npmjs.org/@elastic/elasticsearch/8.17.1/lib/api/api/get.js:44:12)\n",
      "    at async <anonymous>:2:3 {\n",
      "  options: { redaction: { type: \"replace\", additionalKeys: [] } },\n",
      "  name: \"ResponseError\",\n",
      "  meta: {\n",
      "    body: { _index: \"my_index\", _id: \"does_not_exist\", found: false },\n",
      "    statusCode: 404,\n",
      "    headers: {\n",
      "      \"x-elastic-product\": \"Elasticsearch\",\n",
      "      \"content-type\": \"application/json\",\n",
      "      \"content-length\": \"58\"\n",
      "    },\n",
      "    meta: {\n",
      "      context: null,\n",
      "      request: {\n",
      "        params: {\n",
      "          method: \"GET\",\n",
      "          path: \"/my_index/_doc/does_not_exist\",\n",
      "          querystring: \"\",\n",
      "          headers: [Object]\n",
      "        },\n",
      "        options: {},\n",
      "        id: 14\n",
      "      },\n",
      "      name: \"elasticsearch-js\",\n",
      "      connection: {\n",
      "        url: \"http://localhost:9200/\",\n",
      "        tls: null,\n",
      "        id: \"http://localhost:9200/\",\n",
      "        timeout: 30000,\n",
      "        headers: {\n",
      "          \"user-agent\": \"elasticsearch-js/8.17.1 (win32 10.0.26100-x64; Node.js 20.11.1; Transport 8.9.5)\",\n",
      "          \"x-elastic-client-meta\": \"es=8.17.1,js=20.11.1,t=8.9.5,un=20.11.1\",\n",
      "          authorization: \"[redacted]\"\n",
      "        },\n",
      "        deadCount: 0,\n",
      "        resurrectTimeout: 0,\n",
      "        _openRequests: 0,\n",
      "        weight: 1000,\n",
      "        maxEventListeners: 100,\n",
      "        pool: {\n",
      "          _events: [Object],\n",
      "          _eventsCount: 1,\n",
      "          _maxListeners: undefined\n",
      "        }\n",
      "      },\n",
      "      attempts: 0,\n",
      "      aborted: false\n",
      "    },\n",
      "    warnings: null\n",
      "  }\n",
      "}\n"
     ]
    }
   ],
   "source": [
    "try {\n",
    "  await client.get({\n",
    "    index: \"my_index\",\n",
    "    id: \"does_not_exist\",\n",
    "  });\n",
    "} catch (error) {\n",
    "  console.log(error);\n",
    "}\n"
   ]
  }
 ],
 "metadata": {
  "kernelspec": {
   "display_name": "Deno",
   "language": "typescript",
   "name": "deno"
  },
  "language_info": {
   "codemirror_mode": "typescript",
   "file_extension": ".ts",
   "mimetype": "text/x.typescript",
   "name": "typescript",
   "nbconvert_exporter": "script",
   "pygments_lexer": "typescript",
   "version": "5.7.3"
  }
 },
 "nbformat": 4,
 "nbformat_minor": 2
}
