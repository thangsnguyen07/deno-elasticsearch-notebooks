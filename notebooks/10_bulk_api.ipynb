{
 "cells": [
  {
   "cell_type": "markdown",
   "metadata": {},
   "source": [
    "## Documentation\n",
    "\n",
    "To read more about the bulk API, visit the [docs](https://www.elastic.co/guide/en/elasticsearch/reference/current/docs-bulk.html).\n",
    "\n",
    "![bulk_api_docs](../images/bulk_api_docs.png)"
   ]
  },
  {
   "cell_type": "markdown",
   "metadata": {},
   "source": [
    "## Connect to ElasticSearch\n"
   ]
  },
  {
   "cell_type": "code",
   "execution_count": 1,
   "metadata": {},
   "outputs": [
    {
     "name": "stdout",
     "output_type": "stream",
     "text": [
      "{\n",
      "  name: \"1e6d9c093984\",\n",
      "  cluster_name: \"docker-cluster\",\n",
      "  cluster_uuid: \"v3fUyW9OReext6IjPiOCqg\",\n",
      "  version: {\n",
      "    number: \"8.17.4\",\n",
      "    build_flavor: \"default\",\n",
      "    build_type: \"docker\",\n",
      "    build_hash: \"c63c7f5f8ce7d2e4805b7b3d842e7e792d84dda1\",\n",
      "    build_date: \"2025-03-20T15:39:59.811110136Z\",\n",
      "    build_snapshot: false,\n",
      "    lucene_version: \"9.12.0\",\n",
      "    minimum_wire_compatibility_version: \"7.17.0\",\n",
      "    minimum_index_compatibility_version: \"7.0.0\"\n",
      "  },\n",
      "  tagline: \"You Know, for Search\"\n",
      "}\n"
     ]
    }
   ],
   "source": [
    "import { Client } from \"npm:@elastic/elasticsearch\";\n",
    "import { load } from \"https://deno.land/std/dotenv/mod.ts\";\n",
    "\n",
    "const env = await load({ envPath: \"../.env\" });\n",
    "\n",
    "const client = new Client({\n",
    "  node: env.ELASTICSEARCH_NODE,\n",
    "  auth: {\n",
    "    apiKey: env.ELASTICSEARCH_API_KEY,\n",
    "  },\n",
    "});\n",
    "\n",
    "const info = await client.info();\n",
    "console.log(info);\n"
   ]
  },
  {
   "cell_type": "markdown",
   "metadata": {},
   "source": [
    "## Create index\n"
   ]
  },
  {
   "cell_type": "code",
   "execution_count": 7,
   "metadata": {},
   "outputs": [
    {
     "data": {
      "text/plain": [
       "{ acknowledged: \u001b[33mtrue\u001b[39m, shards_acknowledged: \u001b[33mtrue\u001b[39m, index: \u001b[32m\"my_index\"\u001b[39m }"
      ]
     },
     "execution_count": 7,
     "metadata": {},
     "output_type": "execute_result"
    }
   ],
   "source": [
    "await client.indices.delete({ index: \"my_index\", ignore_unavailable: true });\n",
    "await client.indices.create({ index: \"my_index\" });\n"
   ]
  },
  {
   "cell_type": "markdown",
   "metadata": {},
   "source": [
    "Without bulk API we executed each operation one at a time, with each action requiring a separate API call. This approach is slow and inefficient. Now, let’s see how to accomplish the same task using the bulk API."
   ]
  },
  {
   "cell_type": "markdown",
   "metadata": {},
   "source": [
    "## Bulk API"
   ]
  },
  {
   "cell_type": "markdown",
   "metadata": {},
   "source": [
    "Provides a way to perform multiple `index`, `create`, `delete`, and `update` actions in a single request."
   ]
  },
  {
   "cell_type": "markdown",
   "metadata": {},
   "source": [
    "The actions are specified in the request body using a newline delimited JSON (NDJSON) structure:\n",
    "\\\n",
    "\\\n",
    "`action_and_meta_data\\n`\n",
    "\\\n",
    "`optional_source\\n`\n",
    "\\\n",
    "`action_and_meta_data\\n`\n",
    "\\\n",
    "`optional_source\\n`\n",
    "\\\n",
    "`....`\n",
    "\\\n",
    "`action_and_meta_data\\n`\n",
    "\\\n",
    "`optional_source\\n`"
   ]
  },
  {
   "cell_type": "code",
   "execution_count": 17,
   "metadata": {},
   "outputs": [
    {
     "name": "stdout",
     "output_type": "stream",
     "text": [
      "{\n",
      "  errors: false,\n",
      "  took: 0,\n",
      "  items: [\n",
      "    {\n",
      "      index: {\n",
      "        _index: \"my_index\",\n",
      "        _id: \"1\",\n",
      "        _version: 7,\n",
      "        result: \"updated\",\n",
      "        _shards: { total: 2, successful: 1, failed: 0 },\n",
      "        _seq_no: 18,\n",
      "        _primary_term: 1,\n",
      "        status: 200\n",
      "      }\n",
      "    },\n",
      "    {\n",
      "      index: {\n",
      "        _index: \"my_index\",\n",
      "        _id: \"2\",\n",
      "        _version: 7,\n",
      "        result: \"updated\",\n",
      "        _shards: { total: 2, successful: 1, failed: 0 },\n",
      "        _seq_no: 19,\n",
      "        _primary_term: 1,\n",
      "        status: 200\n",
      "      }\n",
      "    },\n",
      "    {\n",
      "      index: {\n",
      "        _index: \"my_index\",\n",
      "        _id: \"3\",\n",
      "        _version: 3,\n",
      "        result: \"created\",\n",
      "        _shards: { total: 2, successful: 1, failed: 0 },\n",
      "        _seq_no: 20,\n",
      "        _primary_term: 1,\n",
      "        status: 201\n",
      "      }\n",
      "    },\n",
      "    {\n",
      "      update: {\n",
      "        _index: \"my_index\",\n",
      "        _id: \"1\",\n",
      "        _version: 8,\n",
      "        result: \"updated\",\n",
      "        _shards: { total: 2, successful: 1, failed: 0 },\n",
      "        _seq_no: 21,\n",
      "        _primary_term: 1,\n",
      "        status: 200\n",
      "      }\n",
      "    },\n",
      "    {\n",
      "      update: {\n",
      "        _index: \"my_index\",\n",
      "        _id: \"2\",\n",
      "        _version: 8,\n",
      "        result: \"updated\",\n",
      "        _shards: { total: 2, successful: 1, failed: 0 },\n",
      "        _seq_no: 22,\n",
      "        _primary_term: 1,\n",
      "        status: 200\n",
      "      }\n",
      "    },\n",
      "    {\n",
      "      delete: {\n",
      "        _index: \"my_index\",\n",
      "        _id: \"3\",\n",
      "        _version: 4,\n",
      "        result: \"deleted\",\n",
      "        _shards: { total: 2, successful: 1, failed: 0 },\n",
      "        _seq_no: 23,\n",
      "        _primary_term: 1,\n",
      "        status: 200\n",
      "      }\n",
      "    }\n",
      "  ]\n",
      "}\n"
     ]
    }
   ],
   "source": [
    "const operations = [\n",
    "  // Action 1\n",
    "  {\n",
    "    index: {\n",
    "      _index: \"my_index\",\n",
    "      _id: \"1\",\n",
    "    },\n",
    "  },\n",
    "  // Source 1\n",
    "  {\n",
    "    title: \"Title 1\",\n",
    "    text: \"This is the first sample document text.\",\n",
    "    createdAt: \"2025-03-01\",\n",
    "  },\n",
    "  // Action 2\n",
    "  {\n",
    "    index: {\n",
    "      _index: \"my_index\",\n",
    "      _id: \"2\",\n",
    "    },\n",
    "  },\n",
    "  // Source 2\n",
    "  {\n",
    "    title: \"Title 2\",\n",
    "    text: \"Here is another example of a document.\",\n",
    "    createdAt: \"2025-03-02\",\n",
    "  },\n",
    "  // Action 3\n",
    "  {\n",
    "    index: {\n",
    "      _index: \"my_index\",\n",
    "      _id: \"3\",\n",
    "    },\n",
    "  },\n",
    "  // Source 3\n",
    "  {\n",
    "    title: \"Title 3\",\n",
    "    text: \"The content of the third document goes here.\",\n",
    "    createdAt: \"2025-03-03\",\n",
    "  },\n",
    "  // Action 4\n",
    "  {\n",
    "    update: {\n",
    "      _id: \"1\",\n",
    "      _index: \"my_index\",\n",
    "    },\n",
    "  },\n",
    "  // Source 4\n",
    "  {\n",
    "    doc: {\n",
    "      title: \"New Title 1\",\n",
    "    },\n",
    "  },\n",
    "  // Action 5\n",
    "  {\n",
    "    update: {\n",
    "      _id: \"2\",\n",
    "      _index: \"my_index\",\n",
    "    },\n",
    "  },\n",
    "  // Source 5\n",
    "  {\n",
    "    doc: {\n",
    "      new_field: \"New Field\",\n",
    "    },\n",
    "  },\n",
    "  // Action 6\n",
    "  {\n",
    "    delete: {\n",
    "      _index: \"my_index\",\n",
    "      _id: \"3\",\n",
    "    },\n",
    "  },\n",
    "];\n",
    "\n",
    "const response = await client.bulk({\n",
    "  operations,\n",
    "});\n",
    "\n",
    "console.log(response);\n"
   ]
  },
  {
   "cell_type": "markdown",
   "metadata": {},
   "source": [
    "If `errors` is `false`, it means the bulk API successfully executed all the actions."
   ]
  },
  {
   "cell_type": "code",
   "execution_count": 15,
   "metadata": {},
   "outputs": [
    {
     "data": {
      "text/plain": [
       "\u001b[33mfalse\u001b[39m"
      ]
     },
     "execution_count": 15,
     "metadata": {},
     "output_type": "execute_result"
    }
   ],
   "source": [
    "response.errors"
   ]
  }
 ],
 "metadata": {
  "kernelspec": {
   "display_name": "Deno",
   "language": "typescript",
   "name": "deno"
  },
  "language_info": {
   "codemirror_mode": "typescript",
   "file_extension": ".ts",
   "mimetype": "text/x.typescript",
   "name": "typescript",
   "nbconvert_exporter": "script",
   "pygments_lexer": "typescript",
   "version": "5.7.3"
  }
 },
 "nbformat": 4,
 "nbformat_minor": 2
}
