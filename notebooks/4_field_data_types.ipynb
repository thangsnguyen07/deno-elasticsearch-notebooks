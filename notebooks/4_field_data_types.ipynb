{
 "cells": [
  {
   "cell_type": "markdown",
   "metadata": {},
   "source": [
    "## Documentation\n",
    "\n",
    "To read more about field data types, visit the [docs](https://www.elastic.co/guide/en/elasticsearch/reference/current/mapping.html).\n",
    "\n",
    "![field_data_types_docs](../images/field_data_types_docs.png)\n"
   ]
  },
  {
   "cell_type": "markdown",
   "metadata": {},
   "source": [
    "## Connect to ElasticSearch\n"
   ]
  },
  {
   "cell_type": "code",
   "execution_count": 1,
   "metadata": {},
   "outputs": [
    {
     "name": "stdout",
     "output_type": "stream",
     "text": [
      "{\n",
      "  name: \"1e6d9c093984\",\n",
      "  cluster_name: \"docker-cluster\",\n",
      "  cluster_uuid: \"v3fUyW9OReext6IjPiOCqg\",\n",
      "  version: {\n",
      "    number: \"8.17.4\",\n",
      "    build_flavor: \"default\",\n",
      "    build_type: \"docker\",\n",
      "    build_hash: \"c63c7f5f8ce7d2e4805b7b3d842e7e792d84dda1\",\n",
      "    build_date: \"2025-03-20T15:39:59.811110136Z\",\n",
      "    build_snapshot: false,\n",
      "    lucene_version: \"9.12.0\",\n",
      "    minimum_wire_compatibility_version: \"7.17.0\",\n",
      "    minimum_index_compatibility_version: \"7.0.0\"\n",
      "  },\n",
      "  tagline: \"You Know, for Search\"\n",
      "}\n"
     ]
    }
   ],
   "source": [
    "import { Client } from \"npm:@elastic/elasticsearch\";\n",
    "import { load } from \"https://deno.land/std/dotenv/mod.ts\";\n",
    "\n",
    "const env = await load({ envPath: \"../.env\" });\n",
    "\n",
    "const client = new Client({\n",
    "  node: env.ELASTICSEARCH_NODE,\n",
    "  auth: {\n",
    "    apiKey: env.ELASTICSEARCH_API_KEY,\n",
    "  },\n",
    "});\n",
    "\n",
    "const info = await client.info();\n",
    "console.log(info);\n"
   ]
  },
  {
   "cell_type": "markdown",
   "metadata": {},
   "source": [
    "## 1. Common Types\n"
   ]
  },
  {
   "cell_type": "markdown",
   "metadata": {},
   "source": [
    "### 1.1 Binary"
   ]
  },
  {
   "cell_type": "markdown",
   "metadata": {},
   "source": [
    "## Manual mapping"
   ]
  },
  {
   "cell_type": "code",
   "execution_count": null,
   "metadata": {},
   "outputs": [
    {
     "data": {
      "text/plain": [
       "{\n",
       "  acknowledged: \u001b[33mtrue\u001b[39m,\n",
       "  shards_acknowledged: \u001b[33mtrue\u001b[39m,\n",
       "  index: \u001b[32m\"binary_index\"\u001b[39m\n",
       "}"
      ]
     },
     "execution_count": 24,
     "metadata": {},
     "output_type": "execute_result"
    }
   ],
   "source": [
    "await client.indices.delete({\n",
    "  index: \"binary_index\",\n",
    "  ignore_unavailable: true,\n",
    "});\n",
    "await client.indices.create({\n",
    "  index: \"binary_index\",\n",
    "  mappings: {\n",
    "    properties: {\n",
    "      data: { type: \"binary\" },\n",
    "    },\n",
    "  },\n",
    "});\n"
   ]
  },
  {
   "cell_type": "code",
   "execution_count": null,
   "metadata": {},
   "outputs": [
    {
     "name": "stdout",
     "output_type": "stream",
     "text": [
      "iVBORw0KGgoAAAANSUhEUgAABdcAAANwCAYAAADN21M8AAAAAXNSR0IArs4c6QAAAARnQU1BAACxjwv8YQUAAAAJcEhZcwAADsMA\n"
     ]
    }
   ],
   "source": [
    "import * as fs from \"node:fs\";\n",
    "\n",
    "const imagePath = \"../images/field_data_types_docs.png\";\n",
    "\n",
    "const imageData = fs.readFileSync(imagePath);\n",
    "const base64 = imageData.toString(\"base64\");\n",
    "\n",
    "console.log(base64.slice(0, 100));\n"
   ]
  },
  {
   "cell_type": "code",
   "execution_count": null,
   "metadata": {},
   "outputs": [
    {
     "data": {
      "text/plain": [
       "{\n",
       "  _index: \u001b[32m\"binary_index\"\u001b[39m,\n",
       "  _id: \u001b[32m\"aq8b_5UBIA2L3KcmVVZP\"\u001b[39m,\n",
       "  _version: \u001b[33m1\u001b[39m,\n",
       "  result: \u001b[32m\"created\"\u001b[39m,\n",
       "  _shards: { total: \u001b[33m2\u001b[39m, successful: \u001b[33m1\u001b[39m, failed: \u001b[33m0\u001b[39m },\n",
       "  _seq_no: \u001b[33m0\u001b[39m,\n",
       "  _primary_term: \u001b[33m1\u001b[39m\n",
       "}"
      ]
     },
     "execution_count": 34,
     "metadata": {},
     "output_type": "execute_result"
    }
   ],
   "source": [
    "const document = {\n",
    "  data: base64,\n",
    "};\n",
    "\n",
    "await client.index({\n",
    "  index: \"binary_index\",\n",
    "  document,\n",
    "});\n"
   ]
  },
  {
   "cell_type": "markdown",
   "metadata": {},
   "source": [
    "### 1.2 Others"
   ]
  },
  {
   "cell_type": "code",
   "execution_count": null,
   "metadata": {},
   "outputs": [
    {
     "data": {
      "text/plain": [
       "{\n",
       "  acknowledged: \u001b[33mtrue\u001b[39m,\n",
       "  shards_acknowledged: \u001b[33mtrue\u001b[39m,\n",
       "  index: \u001b[32m\"other_common_data_types_index\"\u001b[39m\n",
       "}"
      ]
     },
     "execution_count": 30,
     "metadata": {},
     "output_type": "execute_result"
    }
   ],
   "source": [
    "await client.indices.delete({\n",
    "  index: \"other_common_data_types_index\",\n",
    "  ignore_unavailable: true,\n",
    "});\n",
    "await client.indices.create({\n",
    "  index: \"other_common_data_types_index\",\n",
    "  mappings: {\n",
    "    properties: {\n",
    "      reference: {\n",
    "        type: \"keyword\",\n",
    "      },\n",
    "      price: {\n",
    "        type: \"float\",\n",
    "      },\n",
    "      createdAt: {\n",
    "        type: \"date\",\n",
    "      },\n",
    "      isVerified: {\n",
    "        type: \"boolean\",\n",
    "      },\n",
    "    },\n",
    "  },\n",
    "});\n"
   ]
  },
  {
   "cell_type": "code",
   "execution_count": null,
   "metadata": {},
   "outputs": [
    {
     "data": {
      "text/plain": [
       "{\n",
       "  _index: \u001b[32m\"other_common_data_types_index\"\u001b[39m,\n",
       "  _id: \u001b[32m\"a68d_5UBIA2L3KcmEVaD\"\u001b[39m,\n",
       "  _version: \u001b[33m1\u001b[39m,\n",
       "  result: \u001b[32m\"created\"\u001b[39m,\n",
       "  _shards: { total: \u001b[33m2\u001b[39m, successful: \u001b[33m1\u001b[39m, failed: \u001b[33m0\u001b[39m },\n",
       "  _seq_no: \u001b[33m1\u001b[39m,\n",
       "  _primary_term: \u001b[33m1\u001b[39m\n",
       "}"
      ]
     },
     "execution_count": 35,
     "metadata": {},
     "output_type": "execute_result"
    }
   ],
   "source": [
    "const document = {\n",
    "  reference: \"PRD-001\",\n",
    "  price: 39.9,\n",
    "  createdAt: \"2025-04-01\",\n",
    "  isVerified: true,\n",
    "};\n",
    "\n",
    "await client.index({\n",
    "  index: \"other_common_data_types_index\",\n",
    "  document,\n",
    "});\n"
   ]
  },
  {
   "cell_type": "markdown",
   "metadata": {},
   "source": [
    "## 2. Object types"
   ]
  },
  {
   "cell_type": "markdown",
   "metadata": {},
   "source": [
    "### 2.1 Object"
   ]
  },
  {
   "cell_type": "code",
   "execution_count": 36,
   "metadata": {},
   "outputs": [
    {
     "data": {
      "text/plain": [
       "{\n",
       "  acknowledged: \u001b[33mtrue\u001b[39m,\n",
       "  shards_acknowledged: \u001b[33mtrue\u001b[39m,\n",
       "  index: \u001b[32m\"object_index\"\u001b[39m\n",
       "}"
      ]
     },
     "execution_count": 36,
     "metadata": {},
     "output_type": "execute_result"
    }
   ],
   "source": [
    "await client.indices.delete({\n",
    "  index: \"object_index\",\n",
    "  ignore_unavailable: true,\n",
    "});\n",
    "await client.indices.create({\n",
    "  index: \"object_index\",\n",
    "  mappings: {\n",
    "    properties: {\n",
    "      user: {\n",
    "        properties: {\n",
    "          firstName: {\n",
    "            type: \"text\",\n",
    "          },\n",
    "          lastName: {\n",
    "            type: \"text\",\n",
    "          },\n",
    "        },\n",
    "      },\n",
    "    },\n",
    "  },\n",
    "});\n"
   ]
  },
  {
   "cell_type": "code",
   "execution_count": null,
   "metadata": {},
   "outputs": [
    {
     "data": {
      "text/plain": [
       "{\n",
       "  _index: \u001b[32m\"object_index\"\u001b[39m,\n",
       "  _id: \u001b[32m\"bK8e_5UBIA2L3KcmU1bv\"\u001b[39m,\n",
       "  _version: \u001b[33m1\u001b[39m,\n",
       "  result: \u001b[32m\"created\"\u001b[39m,\n",
       "  _shards: { total: \u001b[33m2\u001b[39m, successful: \u001b[33m1\u001b[39m, failed: \u001b[33m0\u001b[39m },\n",
       "  _seq_no: \u001b[33m0\u001b[39m,\n",
       "  _primary_term: \u001b[33m1\u001b[39m\n",
       "}"
      ]
     },
     "execution_count": 37,
     "metadata": {},
     "output_type": "execute_result"
    }
   ],
   "source": [
    "const document = {\n",
    "  user: {\n",
    "    firstName: \"Thang\",\n",
    "    lastName: \"Nguyen\",\n",
    "  },\n",
    "};\n",
    "\n",
    "await client.index({\n",
    "  index: \"object_index\",\n",
    "  document,\n",
    "});\n"
   ]
  },
  {
   "cell_type": "markdown",
   "metadata": {},
   "source": [
    "### 2.2 Flattened object"
   ]
  },
  {
   "cell_type": "code",
   "execution_count": null,
   "metadata": {},
   "outputs": [
    {
     "data": {
      "text/plain": [
       "{\n",
       "  acknowledged: \u001b[33mtrue\u001b[39m,\n",
       "  shards_acknowledged: \u001b[33mtrue\u001b[39m,\n",
       "  index: \u001b[32m\"object_index\"\u001b[39m\n",
       "}"
      ]
     },
     "execution_count": 38,
     "metadata": {},
     "output_type": "execute_result"
    }
   ],
   "source": [
    "await client.indices.delete({\n",
    "  index: \"flattened_object_index\",\n",
    "  ignore_unavailable: true,\n",
    "});\n",
    "await client.indices.create({\n",
    "  index: \"flattened_object_index\",\n",
    "  mappings: {\n",
    "    properties: {\n",
    "      user: {\n",
    "        type: \"flattened\",\n",
    "      },\n",
    "    },\n",
    "  },\n",
    "});\n"
   ]
  },
  {
   "cell_type": "code",
   "execution_count": null,
   "metadata": {},
   "outputs": [
    {
     "data": {
      "text/plain": [
       "{\n",
       "  _index: \u001b[32m\"flattened_object_index\"\u001b[39m,\n",
       "  _id: \u001b[32m\"ba9V_5UBIA2L3KcmXFb7\"\u001b[39m,\n",
       "  _version: \u001b[33m1\u001b[39m,\n",
       "  result: \u001b[32m\"created\"\u001b[39m,\n",
       "  _shards: { total: \u001b[33m2\u001b[39m, successful: \u001b[33m1\u001b[39m, failed: \u001b[33m0\u001b[39m },\n",
       "  _seq_no: \u001b[33m0\u001b[39m,\n",
       "  _primary_term: \u001b[33m1\u001b[39m\n",
       "}"
      ]
     },
     "execution_count": 39,
     "metadata": {},
     "output_type": "execute_result"
    }
   ],
   "source": [
    "const document = {\n",
    "  user: {\n",
    "    firstName: \"Thang\",\n",
    "    lastName: \"Nguyen\",\n",
    "  },\n",
    "};\n",
    "\n",
    "await client.index({\n",
    "  index: \"flattened_object_index\",\n",
    "  document,\n",
    "});\n"
   ]
  },
  {
   "cell_type": "markdown",
   "metadata": {},
   "source": [
    "### 2.3 Nested object"
   ]
  },
  {
   "cell_type": "code",
   "execution_count": 40,
   "metadata": {},
   "outputs": [
    {
     "data": {
      "text/plain": [
       "{\n",
       "  acknowledged: \u001b[33mtrue\u001b[39m,\n",
       "  shards_acknowledged: \u001b[33mtrue\u001b[39m,\n",
       "  index: \u001b[32m\"nested_object_index\"\u001b[39m\n",
       "}"
      ]
     },
     "execution_count": 40,
     "metadata": {},
     "output_type": "execute_result"
    }
   ],
   "source": [
    "await client.indices.delete({\n",
    "  index: \"nested_object_index\",\n",
    "  ignore_unavailable: true,\n",
    "});\n",
    "await client.indices.create({\n",
    "  index: \"nested_object_index\",\n",
    "  mappings: {\n",
    "    properties: {\n",
    "      user: {\n",
    "        type: \"nested\",\n",
    "      },\n",
    "    },\n",
    "  },\n",
    "});\n"
   ]
  },
  {
   "cell_type": "code",
   "execution_count": 41,
   "metadata": {},
   "outputs": [
    {
     "data": {
      "text/plain": [
       "{\n",
       "  _index: \u001b[32m\"nested_object_index\"\u001b[39m,\n",
       "  _id: \u001b[32m\"bq9bAJYBIA2L3KcmmVZX\"\u001b[39m,\n",
       "  _version: \u001b[33m1\u001b[39m,\n",
       "  result: \u001b[32m\"created\"\u001b[39m,\n",
       "  _shards: { total: \u001b[33m2\u001b[39m, successful: \u001b[33m1\u001b[39m, failed: \u001b[33m0\u001b[39m },\n",
       "  _seq_no: \u001b[33m0\u001b[39m,\n",
       "  _primary_term: \u001b[33m1\u001b[39m\n",
       "}"
      ]
     },
     "execution_count": 41,
     "metadata": {},
     "output_type": "execute_result"
    }
   ],
   "source": [
    "const document = [\n",
    "  {\n",
    "    firstName: \"Thang\",\n",
    "    lastName: \"Nguyen\",\n",
    "  },\n",
    "  {\n",
    "    firstName: \"Thang 2\",\n",
    "    lastName: \"Thang 2\",\n",
    "  },\n",
    "];\n",
    "\n",
    "await client.index({\n",
    "  index: \"nested_object_index\",\n",
    "  document: {\n",
    "    user: document,\n",
    "  },\n",
    "});\n"
   ]
  },
  {
   "cell_type": "markdown",
   "metadata": {},
   "source": [
    "## 3. Text search types"
   ]
  },
  {
   "cell_type": "markdown",
   "metadata": {},
   "source": [
    "### 3.1 Text"
   ]
  },
  {
   "cell_type": "code",
   "execution_count": 42,
   "metadata": {},
   "outputs": [
    {
     "data": {
      "text/plain": [
       "{ acknowledged: \u001b[33mtrue\u001b[39m, shards_acknowledged: \u001b[33mtrue\u001b[39m, index: \u001b[32m\"text_index\"\u001b[39m }"
      ]
     },
     "execution_count": 42,
     "metadata": {},
     "output_type": "execute_result"
    }
   ],
   "source": [
    "await client.indices.delete({\n",
    "  index: \"text_index\",\n",
    "  ignore_unavailable: true,\n",
    "});\n",
    "await client.indices.create({\n",
    "  index: \"text_index\",\n",
    "  mappings: {\n",
    "    properties: {\n",
    "      email_body: {\n",
    "        type: \"text\",\n",
    "      },\n",
    "    },\n",
    "  },\n",
    "});\n"
   ]
  },
  {
   "cell_type": "code",
   "execution_count": 43,
   "metadata": {},
   "outputs": [
    {
     "data": {
      "text/plain": [
       "{\n",
       "  _index: \u001b[32m\"text_index\"\u001b[39m,\n",
       "  _id: \u001b[32m\"b69dAJYBIA2L3KcmXFYi\"\u001b[39m,\n",
       "  _version: \u001b[33m1\u001b[39m,\n",
       "  result: \u001b[32m\"created\"\u001b[39m,\n",
       "  _shards: { total: \u001b[33m2\u001b[39m, successful: \u001b[33m1\u001b[39m, failed: \u001b[33m0\u001b[39m },\n",
       "  _seq_no: \u001b[33m0\u001b[39m,\n",
       "  _primary_term: \u001b[33m1\u001b[39m\n",
       "}"
      ]
     },
     "execution_count": 43,
     "metadata": {},
     "output_type": "execute_result"
    }
   ],
   "source": [
    "const document = {\n",
    "    \"email_body\": \"Hello world\"\n",
    "}\n",
    "\n",
    "await client.index({\n",
    "  index: \"text_index\",\n",
    "  document,\n",
    "});"
   ]
  },
  {
   "cell_type": "markdown",
   "metadata": {},
   "source": [
    "### 3.2 Completion"
   ]
  },
  {
   "cell_type": "code",
   "execution_count": null,
   "metadata": {},
   "outputs": [
    {
     "data": {
      "text/plain": [
       "{\n",
       "  acknowledged: \u001b[33mtrue\u001b[39m,\n",
       "  shards_acknowledged: \u001b[33mtrue\u001b[39m,\n",
       "  index: \u001b[32m\"text_completion_index\"\u001b[39m\n",
       "}"
      ]
     },
     "execution_count": 44,
     "metadata": {},
     "output_type": "execute_result"
    }
   ],
   "source": [
    "await client.indices.delete({\n",
    "  index: \"text_completion_index\",\n",
    "  ignore_unavailable: true,\n",
    "});\n",
    "await client.indices.create({\n",
    "  index: \"text_completion_index\",\n",
    "  mappings: {\n",
    "    properties: {\n",
    "      suggest: {\n",
    "        type: \"completion\",\n",
    "      },\n",
    "    },\n",
    "  },\n",
    "});\n"
   ]
  },
  {
   "cell_type": "code",
   "execution_count": 45,
   "metadata": {},
   "outputs": [
    {
     "data": {
      "text/plain": [
       "{\n",
       "  _index: \u001b[32m\"text_completion_index\"\u001b[39m,\n",
       "  _id: \u001b[32m\"cK9eAJYBIA2L3Kcm4FZT\"\u001b[39m,\n",
       "  _version: \u001b[33m1\u001b[39m,\n",
       "  result: \u001b[32m\"created\"\u001b[39m,\n",
       "  _shards: { total: \u001b[33m2\u001b[39m, successful: \u001b[33m1\u001b[39m, failed: \u001b[33m0\u001b[39m },\n",
       "  _seq_no: \u001b[33m0\u001b[39m,\n",
       "  _primary_term: \u001b[33m1\u001b[39m\n",
       "}"
      ]
     },
     "execution_count": 45,
     "metadata": {},
     "output_type": "execute_result"
    }
   ],
   "source": [
    "const document = {\n",
    "  suggest: {\n",
    "    input: [\"Planet\", \"Mars\", \"Saturn\"],\n",
    "  },\n",
    "};\n",
    "\n",
    "await client.index({\n",
    "  index: \"text_completion_index\",\n",
    "  document,\n",
    "});\n"
   ]
  },
  {
   "cell_type": "markdown",
   "metadata": {},
   "source": [
    "## 4. Spatial data types"
   ]
  },
  {
   "cell_type": "markdown",
   "metadata": {},
   "source": [
    "### 4.1 Geo point"
   ]
  },
  {
   "cell_type": "code",
   "execution_count": 46,
   "metadata": {},
   "outputs": [
    {
     "data": {
      "text/plain": [
       "{\n",
       "  acknowledged: \u001b[33mtrue\u001b[39m,\n",
       "  shards_acknowledged: \u001b[33mtrue\u001b[39m,\n",
       "  index: \u001b[32m\"geo_point_index\"\u001b[39m\n",
       "}"
      ]
     },
     "execution_count": 46,
     "metadata": {},
     "output_type": "execute_result"
    }
   ],
   "source": [
    "await client.indices.delete({\n",
    "  index: \"geo_point_index\",\n",
    "  ignore_unavailable: true,\n",
    "});\n",
    "await client.indices.create({\n",
    "  index: \"geo_point_index\",\n",
    "  mappings: {\n",
    "    properties: {\n",
    "      location: {\n",
    "        type: \"geo_point\",\n",
    "      },\n",
    "    },\n",
    "  },\n",
    "});\n"
   ]
  },
  {
   "cell_type": "code",
   "execution_count": 49,
   "metadata": {},
   "outputs": [
    {
     "data": {
      "text/plain": [
       "{\n",
       "  _index: \u001b[32m\"geo_point_index\"\u001b[39m,\n",
       "  _id: \u001b[32m\"c69hAJYBIA2L3Kcm_VZT\"\u001b[39m,\n",
       "  _version: \u001b[33m1\u001b[39m,\n",
       "  result: \u001b[32m\"created\"\u001b[39m,\n",
       "  _shards: { total: \u001b[33m2\u001b[39m, successful: \u001b[33m1\u001b[39m, failed: \u001b[33m0\u001b[39m },\n",
       "  _seq_no: \u001b[33m0\u001b[39m,\n",
       "  _primary_term: \u001b[33m1\u001b[39m\n",
       "}"
      ]
     },
     "execution_count": 49,
     "metadata": {},
     "output_type": "execute_result"
    }
   ],
   "source": [
    "const document = {\n",
    "  text: \"Geopoint as an object using GeoJSON format\",\n",
    "  location: {\n",
    "    type: \"Point\",\n",
    "    coordinates: [106.7, 10.74],\n",
    "  },\n",
    "};\n",
    "\n",
    "await client.index({\n",
    "  index: \"geo_point_index\",\n",
    "  document,\n",
    "});\n"
   ]
  },
  {
   "cell_type": "markdown",
   "metadata": {},
   "source": [
    "### 4.2 Geo shape"
   ]
  },
  {
   "cell_type": "code",
   "execution_count": 50,
   "metadata": {},
   "outputs": [
    {
     "data": {
      "text/plain": [
       "{\n",
       "  acknowledged: \u001b[33mtrue\u001b[39m,\n",
       "  shards_acknowledged: \u001b[33mtrue\u001b[39m,\n",
       "  index: \u001b[32m\"geo_shape_index\"\u001b[39m\n",
       "}"
      ]
     },
     "execution_count": 50,
     "metadata": {},
     "output_type": "execute_result"
    }
   ],
   "source": [
    "await client.indices.delete({\n",
    "  index: \"geo_shape_index\",\n",
    "  ignore_unavailable: true,\n",
    "});\n",
    "await client.indices.create({\n",
    "  index: \"geo_shape_index\",\n",
    "  mappings: {\n",
    "    properties: {\n",
    "      location: {\n",
    "        type: \"geo_shape\",\n",
    "      },\n",
    "    },\n",
    "  },\n",
    "});\n"
   ]
  },
  {
   "cell_type": "code",
   "execution_count": 51,
   "metadata": {},
   "outputs": [
    {
     "data": {
      "text/plain": [
       "{\n",
       "  _index: \u001b[32m\"geo_shape_index\"\u001b[39m,\n",
       "  _id: \u001b[32m\"da9jAJYBIA2L3KcmblbJ\"\u001b[39m,\n",
       "  _version: \u001b[33m1\u001b[39m,\n",
       "  result: \u001b[32m\"created\"\u001b[39m,\n",
       "  _shards: { total: \u001b[33m2\u001b[39m, successful: \u001b[33m1\u001b[39m, failed: \u001b[33m0\u001b[39m },\n",
       "  _seq_no: \u001b[33m1\u001b[39m,\n",
       "  _primary_term: \u001b[33m1\u001b[39m\n",
       "}"
      ]
     },
     "execution_count": 51,
     "metadata": {},
     "output_type": "execute_result"
    }
   ],
   "source": [
    "const document_1 = {\n",
    "  location: {\n",
    "    type: \"LineString\",\n",
    "    coordinates: [\n",
    "      [-77.03653, 38.897676],\n",
    "      [-77.009051, 38.889939],\n",
    "    ],\n",
    "  },\n",
    "};\n",
    "\n",
    "const document_2 = {\n",
    "  location: {\n",
    "    type: \"Polygon\",\n",
    "    coordinates: [\n",
    "      [\n",
    "        [100, 0],\n",
    "        [101, 0],\n",
    "        [101, 1],\n",
    "        [100, 1],\n",
    "        [100, 0],\n",
    "      ],\n",
    "      [\n",
    "        [100.2, 0.2],\n",
    "        [100.8, 0.2],\n",
    "        [100.8, 0.8],\n",
    "        [100.2, 0.8],\n",
    "        [100.2, 0.2],\n",
    "      ],\n",
    "    ],\n",
    "  },\n",
    "};\n",
    "\n",
    "await client.index({ index: \"geo_shape_index\", document: document_1 });\n",
    "await client.index({ index: \"geo_shape_index\", document: document_2 });\n"
   ]
  },
  {
   "cell_type": "markdown",
   "metadata": {},
   "source": [
    "### 4.3 Point"
   ]
  },
  {
   "cell_type": "code",
   "execution_count": 52,
   "metadata": {},
   "outputs": [
    {
     "data": {
      "text/plain": [
       "{ acknowledged: \u001b[33mtrue\u001b[39m, shards_acknowledged: \u001b[33mtrue\u001b[39m, index: \u001b[32m\"point_index\"\u001b[39m }"
      ]
     },
     "execution_count": 52,
     "metadata": {},
     "output_type": "execute_result"
    }
   ],
   "source": [
    "await client.indices.delete({\n",
    "  index: \"point_index\",\n",
    "  ignore_unavailable: true,\n",
    "});\n",
    "await client.indices.create({\n",
    "  index: \"point_index\",\n",
    "  mappings: {\n",
    "    properties: {\n",
    "      location: {\n",
    "        type: \"point\",\n",
    "      },\n",
    "    },\n",
    "  },\n",
    "});\n"
   ]
  },
  {
   "cell_type": "code",
   "execution_count": null,
   "metadata": {},
   "outputs": [],
   "source": [
    "const document = {\n",
    "  location: {\n",
    "    type: \"Point\",\n",
    "    coordinates: [-71.34, 41.12],\n",
    "  },\n",
    "};\n",
    "\n",
    "await client.index({ index: \"point_index\", document });\n"
   ]
  }
 ],
 "metadata": {
  "kernelspec": {
   "display_name": "Deno",
   "language": "typescript",
   "name": "deno"
  },
  "language_info": {
   "codemirror_mode": "typescript",
   "file_extension": ".ts",
   "mimetype": "text/x.typescript",
   "name": "typescript",
   "nbconvert_exporter": "script",
   "pygments_lexer": "typescript",
   "version": "5.7.3"
  }
 },
 "nbformat": 4,
 "nbformat_minor": 2
}
