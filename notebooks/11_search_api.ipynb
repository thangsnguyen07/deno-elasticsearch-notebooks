{
 "cells": [
  {
   "cell_type": "markdown",
   "metadata": {},
   "source": [
    "## Documentation\n",
    "\n",
    "To read more about the search API, visit the docs [here](https://www.elastic.co/guide/en/elasticsearch/reference/current/search-your-data.html) and [here](https://www.elastic.co/guide/en/elasticsearch/reference/current/search-search.html).\n",
    "\n",
    "![search_api_docs](../images/search_api_docs.png)"
   ]
  },
  {
   "cell_type": "markdown",
   "metadata": {},
   "source": [
    "## Connect to ElasticSearch\n"
   ]
  },
  {
   "cell_type": "code",
   "execution_count": 1,
   "metadata": {},
   "outputs": [
    {
     "name": "stdout",
     "output_type": "stream",
     "text": [
      "{\n",
      "  name: \"1e6d9c093984\",\n",
      "  cluster_name: \"docker-cluster\",\n",
      "  cluster_uuid: \"v3fUyW9OReext6IjPiOCqg\",\n",
      "  version: {\n",
      "    number: \"8.17.4\",\n",
      "    build_flavor: \"default\",\n",
      "    build_type: \"docker\",\n",
      "    build_hash: \"c63c7f5f8ce7d2e4805b7b3d842e7e792d84dda1\",\n",
      "    build_date: \"2025-03-20T15:39:59.811110136Z\",\n",
      "    build_snapshot: false,\n",
      "    lucene_version: \"9.12.0\",\n",
      "    minimum_wire_compatibility_version: \"7.17.0\",\n",
      "    minimum_index_compatibility_version: \"7.0.0\"\n",
      "  },\n",
      "  tagline: \"You Know, for Search\"\n",
      "}\n"
     ]
    }
   ],
   "source": [
    "import { Client } from \"npm:@elastic/elasticsearch\";\n",
    "import { load } from \"https://deno.land/std/dotenv/mod.ts\";\n",
    "\n",
    "const env = await load({ envPath: \"../.env\" });\n",
    "\n",
    "const client = new Client({\n",
    "  node: env.ELASTICSEARCH_NODE,\n",
    "  auth: {\n",
    "    apiKey: env.ELASTICSEARCH_API_KEY,\n",
    "  },\n",
    "});\n",
    "\n",
    "const info = await client.info();\n",
    "console.log(info);\n"
   ]
  },
  {
   "cell_type": "markdown",
   "metadata": {},
   "source": [
    "## Create indices\n"
   ]
  },
  {
   "cell_type": "code",
   "execution_count": null,
   "metadata": {},
   "outputs": [
    {
     "data": {
      "text/plain": [
       "{ acknowledged: \u001b[33mtrue\u001b[39m, shards_acknowledged: \u001b[33mtrue\u001b[39m, index: \u001b[32m\"my_index_2\"\u001b[39m }"
      ]
     },
     "execution_count": 4,
     "metadata": {},
     "output_type": "execute_result"
    }
   ],
   "source": [
    "await client.indices.delete({ index: \"my_index\", ignore_unavailable: true });\n",
    "await client.indices.create({ index: \"my_index\" });\n",
    "\n",
    "await client.indices.delete({ index: \"my_index_2\", ignore_unavailable: true });\n",
    "await client.indices.create({ index: \"my_index_2\" });\n"
   ]
  },
  {
   "cell_type": "markdown",
   "metadata": {},
   "source": [
    "Let's index the documents sequentially in both indices."
   ]
  },
  {
   "cell_type": "code",
   "execution_count": 5,
   "metadata": {},
   "outputs": [],
   "source": [
    "import data from \"../data/dummy_data.json\" with { type: \"json\" };\n",
    "\n",
    "async function insertDocument(index: string, document: any) {\n",
    "  return await client.index({\n",
    "    index,\n",
    "    document,\n",
    "  });\n",
    "}\n",
    "\n",
    "data.forEach(async (document: any) => {\n",
    "  await insertDocument(\"my_index\", document);\n",
    "  await insertDocument(\"my_index_2\", document);\n",
    "});\n"
   ]
  },
  {
   "cell_type": "markdown",
   "metadata": {},
   "source": [
    "## Searching"
   ]
  },
  {
   "cell_type": "code",
   "execution_count": null,
   "metadata": {},
   "outputs": [
    {
     "name": "stdout",
     "output_type": "stream",
     "text": [
      "The number of documents in my_index is:  3\n"
     ]
    }
   ],
   "source": [
    "const response = await client.search({\n",
    "  index: \"my_index\",\n",
    "  query: {\n",
    "    match_all: {},\n",
    "  },\n",
    "});\n",
    "\n",
    "console.log(\n",
    "  `The number of documents in my_index is: `,\n",
    "  response[\"hits\"][\"total\"][\"value\"]\n",
    ");\n"
   ]
  },
  {
   "cell_type": "code",
   "execution_count": null,
   "metadata": {},
   "outputs": [
    {
     "name": "stdout",
     "output_type": "stream",
     "text": [
      "The number of documents in my_index_2 is:  3\n"
     ]
    }
   ],
   "source": [
    "const response = await client.search({\n",
    "  index: \"my_index_2\",\n",
    "  query: {\n",
    "    match_all: {},\n",
    "  },\n",
    "});\n",
    "\n",
    "console.log(\n",
    "  `The number of documents in my_index_2 is: `,\n",
    "  response[\"hits\"][\"total\"][\"value\"]\n",
    ");\n"
   ]
  },
  {
   "cell_type": "markdown",
   "metadata": {},
   "source": [
    "Or we can provide the `index` argument multiple indices at once."
   ]
  },
  {
   "cell_type": "code",
   "execution_count": null,
   "metadata": {},
   "outputs": [
    {
     "name": "stdout",
     "output_type": "stream",
     "text": [
      "The number of documents in my_index and my_index_2 is:  6\n"
     ]
    }
   ],
   "source": [
    "const response = await client.search({\n",
    "  index: \"my_index,my_index_2\",\n",
    "  query: {\n",
    "    match_all: {},\n",
    "  },\n",
    "});\n",
    "\n",
    "console.log(\n",
    "  `The number of documents in my_index and my_index_2 is: `,\n",
    "  response[\"hits\"][\"total\"][\"value\"]\n",
    ");\n"
   ]
  },
  {
   "cell_type": "markdown",
   "metadata": {},
   "source": [
    "We can also use wildcards `*` to match multiple indices without listing them individually, such as `\"my_index*\"`."
   ]
  },
  {
   "cell_type": "code",
   "execution_count": null,
   "metadata": {},
   "outputs": [
    {
     "name": "stdout",
     "output_type": "stream",
     "text": [
      "The number of documents in all indices starting with 'my_index' is:  6\n"
     ]
    }
   ],
   "source": [
    "const response = await client.search({\n",
    "  index: \"my_index*\",\n",
    "  query: {\n",
    "    match_all: {},\n",
    "  },\n",
    "});\n",
    "\n",
    "console.log(\n",
    "  `The number of documents in all indices starting with 'my_index' is: `,\n",
    "  response[\"hits\"][\"total\"][\"value\"]\n",
    ");\n"
   ]
  },
  {
   "cell_type": "markdown",
   "metadata": {},
   "source": [
    "Or, to search all indices, we use `_all`."
   ]
  },
  {
   "cell_type": "code",
   "execution_count": 16,
   "metadata": {},
   "outputs": [
    {
     "name": "stdout",
     "output_type": "stream",
     "text": [
      "The number of documents in all indices is:  6\n"
     ]
    }
   ],
   "source": [
    "const response = await client.search({\n",
    "  index: \"_all\",\n",
    "  query: {\n",
    "    match_all: {},\n",
    "  },\n",
    "});\n",
    "\n",
    "console.log(\n",
    "  `The number of documents in all indices is: `,\n",
    "  response[\"hits\"][\"total\"][\"value\"]\n",
    ");\n"
   ]
  }
 ],
 "metadata": {
  "kernelspec": {
   "display_name": "Deno",
   "language": "typescript",
   "name": "deno"
  },
  "language_info": {
   "codemirror_mode": "typescript",
   "file_extension": ".ts",
   "mimetype": "text/x.typescript",
   "name": "typescript",
   "nbconvert_exporter": "script",
   "pygments_lexer": "typescript",
   "version": "5.7.3"
  }
 },
 "nbformat": 4,
 "nbformat_minor": 2
}
