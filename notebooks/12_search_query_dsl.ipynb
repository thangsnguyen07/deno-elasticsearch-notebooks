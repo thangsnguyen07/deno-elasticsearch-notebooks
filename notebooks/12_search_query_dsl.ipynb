{
 "cells": [
  {
   "cell_type": "markdown",
   "metadata": {},
   "source": [
    "## Documentation\n",
    "\n",
    "To read more about the search by Query DSL, visit the docs [Query DSL](https://www.elastic.co/guide/en/elasticsearch/reference/current/query-dsl.html), [here](https://www.elastic.co/guide/en/elasticsearch/reference/current/search-your-data.html) and [here](https://www.elastic.co/guide/en/elasticsearch/reference/current/search-search.html).\n",
    "\n",
    "![search_by_query_dsl_docs](../images/search_by_query_dsl_docs.png)"
   ]
  },
  {
   "cell_type": "markdown",
   "metadata": {},
   "source": [
    "## Connect to ElasticSearch\n"
   ]
  },
  {
   "cell_type": "code",
   "execution_count": 1,
   "metadata": {},
   "outputs": [
    {
     "name": "stdout",
     "output_type": "stream",
     "text": [
      "{\n",
      "  name: \"1e6d9c093984\",\n",
      "  cluster_name: \"docker-cluster\",\n",
      "  cluster_uuid: \"v3fUyW9OReext6IjPiOCqg\",\n",
      "  version: {\n",
      "    number: \"8.17.4\",\n",
      "    build_flavor: \"default\",\n",
      "    build_type: \"docker\",\n",
      "    build_hash: \"c63c7f5f8ce7d2e4805b7b3d842e7e792d84dda1\",\n",
      "    build_date: \"2025-03-20T15:39:59.811110136Z\",\n",
      "    build_snapshot: false,\n",
      "    lucene_version: \"9.12.0\",\n",
      "    minimum_wire_compatibility_version: \"7.17.0\",\n",
      "    minimum_index_compatibility_version: \"7.0.0\"\n",
      "  },\n",
      "  tagline: \"You Know, for Search\"\n",
      "}\n"
     ]
    }
   ],
   "source": [
    "import { Client } from \"npm:@elastic/elasticsearch\";\n",
    "import { load } from \"https://deno.land/std/dotenv/mod.ts\";\n",
    "\n",
    "const env = await load({ envPath: \"../.env\" });\n",
    "\n",
    "const client = new Client({\n",
    "  node: env.ELASTICSEARCH_NODE,\n",
    "  auth: {\n",
    "    apiKey: env.ELASTICSEARCH_API_KEY,\n",
    "  },\n",
    "});\n",
    "\n",
    "const info = await client.info();\n",
    "console.log(info);\n"
   ]
  },
  {
   "cell_type": "markdown",
   "metadata": {},
   "source": [
    "## Create index\n"
   ]
  },
  {
   "cell_type": "code",
   "execution_count": 2,
   "metadata": {},
   "outputs": [
    {
     "data": {
      "text/plain": [
       "{ acknowledged: \u001b[33mtrue\u001b[39m, shards_acknowledged: \u001b[33mtrue\u001b[39m, index: \u001b[32m\"my_index\"\u001b[39m }"
      ]
     },
     "execution_count": 2,
     "metadata": {},
     "output_type": "execute_result"
    }
   ],
   "source": [
    "await client.indices.delete({ index: \"my_index\", ignore_unavailable: true });\n",
    "await client.indices.create({ index: \"my_index\" });\n"
   ]
  },
  {
   "cell_type": "markdown",
   "metadata": {},
   "source": [
    "Let's index the documents."
   ]
  },
  {
   "cell_type": "code",
   "execution_count": 3,
   "metadata": {},
   "outputs": [],
   "source": [
    "import data from \"../data/dummy_data.json\" with { type: \"json\" };\n",
    "\n",
    "async function insertDocument(index: string, document: any) {\n",
    "  return await client.index({\n",
    "    index,\n",
    "    document,\n",
    "  });\n",
    "}\n",
    "\n",
    "data.forEach(async (document: any) => {\n",
    "  await insertDocument(\"my_index\", document);\n",
    "});\n"
   ]
  },
  {
   "cell_type": "markdown",
   "metadata": {},
   "source": [
    "## Searching"
   ]
  },
  {
   "cell_type": "markdown",
   "metadata": {},
   "source": [
    "### 1. Leaf clauses"
   ]
  },
  {
   "cell_type": "markdown",
   "metadata": {},
   "source": [
    "#### 1.1. term query"
   ]
  },
  {
   "cell_type": "markdown",
   "metadata": {},
   "source": [
    "You can use the term query to find documents based on a precise value such as a `price`, a `product ID`, or a `username`.\n"
   ]
  },
  {
   "cell_type": "markdown",
   "metadata": {},
   "source": [
    "Avoid using the `term` query for `text` fields."
   ]
  },
  {
   "cell_type": "markdown",
   "metadata": {},
   "source": [
    "To search `text` field values, use the `match` query instead."
   ]
  },
  {
   "cell_type": "code",
   "execution_count": 4,
   "metadata": {},
   "outputs": [
    {
     "data": {
      "text/plain": [
       "{\n",
       "  took: \u001b[33m1\u001b[39m,\n",
       "  timed_out: \u001b[33mfalse\u001b[39m,\n",
       "  _shards: { total: \u001b[33m1\u001b[39m, successful: \u001b[33m1\u001b[39m, skipped: \u001b[33m0\u001b[39m, failed: \u001b[33m0\u001b[39m },\n",
       "  hits: {\n",
       "    total: { value: \u001b[33m1\u001b[39m, relation: \u001b[32m\"eq\"\u001b[39m },\n",
       "    max_score: \u001b[33m1\u001b[39m,\n",
       "    hits: [\n",
       "      {\n",
       "        _index: \u001b[32m\"my_index\"\u001b[39m,\n",
       "        _id: \u001b[32m\"7Wx5AZYBTEjA208JO_-3\"\u001b[39m,\n",
       "        _score: \u001b[33m1\u001b[39m,\n",
       "        _source: {\n",
       "          title: \u001b[32m\"Title 1\"\u001b[39m,\n",
       "          text: \u001b[32m\"This is the first sample document text.\"\u001b[39m,\n",
       "          createdAt: \u001b[32m\"2025-03-01\"\u001b[39m\n",
       "        }\n",
       "      }\n",
       "    ]\n",
       "  }\n",
       "}"
      ]
     },
     "execution_count": 4,
     "metadata": {},
     "output_type": "execute_result"
    }
   ],
   "source": [
    "await client.search({\n",
    "  index: \"my_index\",\n",
    "  query: {\n",
    "    term: {\n",
    "      createdAt: \"2025-03-01\",\n",
    "    },\n",
    "  },\n",
    "});\n"
   ]
  },
  {
   "cell_type": "markdown",
   "metadata": {},
   "source": [
    "#### 1.2. match query"
   ]
  },
  {
   "cell_type": "markdown",
   "metadata": {},
   "source": [
    "The `match` query is the standard query for performing a `full-text search`, including options for fuzzy matching."
   ]
  },
  {
   "cell_type": "code",
   "execution_count": 5,
   "metadata": {},
   "outputs": [
    {
     "data": {
      "text/plain": [
       "{\n",
       "  took: \u001b[33m3\u001b[39m,\n",
       "  timed_out: \u001b[33mfalse\u001b[39m,\n",
       "  _shards: { total: \u001b[33m1\u001b[39m, successful: \u001b[33m1\u001b[39m, skipped: \u001b[33m0\u001b[39m, failed: \u001b[33m0\u001b[39m },\n",
       "  hits: {\n",
       "    total: { value: \u001b[33m1\u001b[39m, relation: \u001b[32m\"eq\"\u001b[39m },\n",
       "    max_score: \u001b[33m0.94566\u001b[39m,\n",
       "    hits: [\n",
       "      {\n",
       "        _index: \u001b[32m\"my_index\"\u001b[39m,\n",
       "        _id: \u001b[32m\"72x5AZYBTEjA208JO__Q\"\u001b[39m,\n",
       "        _score: \u001b[33m0.94566\u001b[39m,\n",
       "        _source: {\n",
       "          title: \u001b[32m\"Title 3\"\u001b[39m,\n",
       "          text: \u001b[32m\"The content of the third document goes here.\"\u001b[39m,\n",
       "          createdAt: \u001b[32m\"2025-03-03\"\u001b[39m\n",
       "        }\n",
       "      }\n",
       "    ]\n",
       "  }\n",
       "}"
      ]
     },
     "execution_count": 5,
     "metadata": {},
     "output_type": "execute_result"
    }
   ],
   "source": [
    "await client.search({\n",
    "  index: \"my_index\",\n",
    "  query: {\n",
    "    match: {\n",
    "      text: \"third\",\n",
    "    },\n",
    "  },\n",
    "});\n"
   ]
  },
  {
   "cell_type": "markdown",
   "metadata": {},
   "source": [
    "#### 1.3. range query"
   ]
  },
  {
   "cell_type": "markdown",
   "metadata": {},
   "source": [
    "Returns documents that contain terms within a provided range."
   ]
  },
  {
   "cell_type": "code",
   "execution_count": 6,
   "metadata": {},
   "outputs": [
    {
     "data": {
      "text/plain": [
       "{\n",
       "  took: \u001b[33m1\u001b[39m,\n",
       "  timed_out: \u001b[33mfalse\u001b[39m,\n",
       "  _shards: { total: \u001b[33m1\u001b[39m, successful: \u001b[33m1\u001b[39m, skipped: \u001b[33m0\u001b[39m, failed: \u001b[33m0\u001b[39m },\n",
       "  hits: {\n",
       "    total: { value: \u001b[33m3\u001b[39m, relation: \u001b[32m\"eq\"\u001b[39m },\n",
       "    max_score: \u001b[33m1\u001b[39m,\n",
       "    hits: [\n",
       "      {\n",
       "        _index: \u001b[32m\"my_index\"\u001b[39m,\n",
       "        _id: \u001b[32m\"7Wx5AZYBTEjA208JO_-3\"\u001b[39m,\n",
       "        _score: \u001b[33m1\u001b[39m,\n",
       "        _source: {\n",
       "          title: \u001b[32m\"Title 1\"\u001b[39m,\n",
       "          text: \u001b[32m\"This is the first sample document text.\"\u001b[39m,\n",
       "          createdAt: \u001b[32m\"2025-03-01\"\u001b[39m\n",
       "        }\n",
       "      },\n",
       "      {\n",
       "        _index: \u001b[32m\"my_index\"\u001b[39m,\n",
       "        _id: \u001b[32m\"7mx5AZYBTEjA208JO_-3\"\u001b[39m,\n",
       "        _score: \u001b[33m1\u001b[39m,\n",
       "        _source: {\n",
       "          title: \u001b[32m\"Title 2\"\u001b[39m,\n",
       "          text: \u001b[32m\"Here is another example of a document.\"\u001b[39m,\n",
       "          createdAt: \u001b[32m\"2025-03-02\"\u001b[39m\n",
       "        }\n",
       "      },\n",
       "      {\n",
       "        _index: \u001b[32m\"my_index\"\u001b[39m,\n",
       "        _id: \u001b[32m\"72x5AZYBTEjA208JO__Q\"\u001b[39m,\n",
       "        _score: \u001b[33m1\u001b[39m,\n",
       "        _source: {\n",
       "          title: \u001b[32m\"Title 3\"\u001b[39m,\n",
       "          text: \u001b[32m\"The content of the third document goes here.\"\u001b[39m,\n",
       "          createdAt: \u001b[32m\"2025-03-03\"\u001b[39m\n",
       "        }\n",
       "      }\n",
       "    ]\n",
       "  }\n",
       "}"
      ]
     },
     "execution_count": 6,
     "metadata": {},
     "output_type": "execute_result"
    }
   ],
   "source": [
    "await client.search({\n",
    "  index: \"my_index\",\n",
    "  query: {\n",
    "    range: {\n",
    "      createdAt: {\n",
    "        gte: \"2025-03-01\",\n",
    "        lte: \"2025-03-10\",\n",
    "        format: \"yyyy-MM-dd\",\n",
    "      },\n",
    "    },\n",
    "  },\n",
    "});\n"
   ]
  },
  {
   "cell_type": "markdown",
   "metadata": {},
   "source": [
    "### 2. Compound clauses"
   ]
  },
  {
   "cell_type": "markdown",
   "metadata": {},
   "source": [
    "Let's search for documents that meet the following criteria:\n",
    "- Created on `2025-03-02`\n",
    "- Have the word `document` in the text field."
   ]
  },
  {
   "cell_type": "code",
   "execution_count": 8,
   "metadata": {},
   "outputs": [
    {
     "data": {
      "text/plain": [
       "{\n",
       "  took: \u001b[33m1\u001b[39m,\n",
       "  timed_out: \u001b[33mfalse\u001b[39m,\n",
       "  _shards: { total: \u001b[33m1\u001b[39m, successful: \u001b[33m1\u001b[39m, skipped: \u001b[33m0\u001b[39m, failed: \u001b[33m0\u001b[39m },\n",
       "  hits: {\n",
       "    total: { value: \u001b[33m1\u001b[39m, relation: \u001b[32m\"eq\"\u001b[39m },\n",
       "    max_score: \u001b[33m1.1360614\u001b[39m,\n",
       "    hits: [\n",
       "      {\n",
       "        _index: \u001b[32m\"my_index\"\u001b[39m,\n",
       "        _id: \u001b[32m\"7mx5AZYBTEjA208JO_-3\"\u001b[39m,\n",
       "        _score: \u001b[33m1.1360614\u001b[39m,\n",
       "        _source: {\n",
       "          title: \u001b[32m\"Title 2\"\u001b[39m,\n",
       "          text: \u001b[32m\"Here is another example of a document.\"\u001b[39m,\n",
       "          createdAt: \u001b[32m\"2025-03-02\"\u001b[39m\n",
       "        }\n",
       "      }\n",
       "    ]\n",
       "  }\n",
       "}"
      ]
     },
     "execution_count": 8,
     "metadata": {},
     "output_type": "execute_result"
    }
   ],
   "source": [
    "await client.search({\n",
    "  index: \"my_index\",\n",
    "  query: {\n",
    "    bool: {\n",
    "      must: [\n",
    "        {\n",
    "          term: {\n",
    "            createdAt: \"2025-03-02\",\n",
    "          },\n",
    "        },\n",
    "        {\n",
    "          match: {\n",
    "            text: \"document\",\n",
    "          },\n",
    "        },\n",
    "      ],\n",
    "    },\n",
    "  },\n",
    "});\n"
   ]
  }
 ],
 "metadata": {
  "kernelspec": {
   "display_name": "Deno",
   "language": "typescript",
   "name": "deno"
  },
  "language_info": {
   "codemirror_mode": "typescript",
   "file_extension": ".ts",
   "mimetype": "text/x.typescript",
   "name": "typescript",
   "nbconvert_exporter": "script",
   "pygments_lexer": "typescript",
   "version": "5.7.3"
  }
 },
 "nbformat": 4,
 "nbformat_minor": 2
}
