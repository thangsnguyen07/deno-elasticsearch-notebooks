{
 "cells": [
  {
   "cell_type": "markdown",
   "metadata": {},
   "source": [
    "## Documentation\n",
    "\n",
    "To read more about the mapping, visit the [docs](https://www.elastic.co/guide/en/elasticsearch/reference/current/mapping.html).\n",
    "\n",
    "![mapping_docs](../images/mapping_docs.png)\n"
   ]
  },
  {
   "cell_type": "markdown",
   "metadata": {},
   "source": [
    "## Connect to ElasticSearch\n"
   ]
  },
  {
   "cell_type": "code",
   "execution_count": 1,
   "metadata": {},
   "outputs": [
    {
     "name": "stdout",
     "output_type": "stream",
     "text": [
      "{\n",
      "  name: \"1e6d9c093984\",\n",
      "  cluster_name: \"docker-cluster\",\n",
      "  cluster_uuid: \"v3fUyW9OReext6IjPiOCqg\",\n",
      "  version: {\n",
      "    number: \"8.17.4\",\n",
      "    build_flavor: \"default\",\n",
      "    build_type: \"docker\",\n",
      "    build_hash: \"c63c7f5f8ce7d2e4805b7b3d842e7e792d84dda1\",\n",
      "    build_date: \"2025-03-20T15:39:59.811110136Z\",\n",
      "    build_snapshot: false,\n",
      "    lucene_version: \"9.12.0\",\n",
      "    minimum_wire_compatibility_version: \"7.17.0\",\n",
      "    minimum_index_compatibility_version: \"7.0.0\"\n",
      "  },\n",
      "  tagline: \"You Know, for Search\"\n",
      "}\n"
     ]
    }
   ],
   "source": [
    "import { Client } from \"npm:@elastic/elasticsearch\";\n",
    "import { load } from \"https://deno.land/std/dotenv/mod.ts\";\n",
    "\n",
    "const env = await load({ envPath: \"../.env\" });\n",
    "\n",
    "const client = new Client({\n",
    "  node: env.ELASTICSEARCH_NODE,\n",
    "  auth: {\n",
    "    apiKey: env.ELASTICSEARCH_API_KEY,\n",
    "  },\n",
    "});\n",
    "\n",
    "const info = await client.info();\n",
    "console.log(info);\n"
   ]
  },
  {
   "cell_type": "markdown",
   "metadata": {},
   "source": [
    "## Dynamic mapping\n"
   ]
  },
  {
   "cell_type": "markdown",
   "metadata": {},
   "source": [
    "When you use dynamic mapping, Elasticsearch automatically attempts to detect the data type of fields in your documents. This allows you to get started quickly by just adding data to an index. If you index additional documents with new fields, Elasticsearch will add these fields automatically."
   ]
  },
  {
   "cell_type": "markdown",
   "metadata": {},
   "source": [
    "## Manual mapping"
   ]
  },
  {
   "cell_type": "code",
   "execution_count": null,
   "metadata": {},
   "outputs": [
    {
     "name": "stdout",
     "output_type": "stream",
     "text": [
      "{\n",
      "  created_on: { type: \"date\" },\n",
      "  text: {\n",
      "    type: \"text\",\n",
      "    fields: { keyword: { type: \"keyword\", ignore_above: 256 } }\n",
      "  },\n",
      "  title: {\n",
      "    type: \"text\",\n",
      "    fields: { keyword: { type: \"keyword\", ignore_above: 256 } }\n",
      "  }\n",
      "}\n"
     ]
    }
   ],
   "source": [
    "await client.indices.delete({ index: \"my_index\", ignore_unavailable: true });\n",
    "await client.indices.create({ index: \"my_index\" });\n",
    "\n",
    "const mapping = {\n",
    "  properties: {\n",
    "    created_on: { type: \"date\" },\n",
    "    text: {\n",
    "      type: \"text\",\n",
    "      fields: {\n",
    "        keyword: {\n",
    "          type: \"keyword\",\n",
    "          ignore_above: 256,\n",
    "        },\n",
    "      },\n",
    "    },\n",
    "    title: {\n",
    "      type: \"text\",\n",
    "      fields: {\n",
    "        keyword: {\n",
    "          type: \"keyword\",\n",
    "          ignore_above: 256,\n",
    "        },\n",
    "      },\n",
    "    },\n",
    "  },\n",
    "};\n",
    "\n",
    "await client.indices.putMapping({\n",
    "  index: \"my_index\",\n",
    "  body: mapping,\n",
    "});\n",
    "\n",
    "const indexMapping = await client.indices.getMapping({ index: \"my_index\" });\n",
    "\n",
    "console.log(indexMapping[\"my_index\"][\"mappings\"][\"properties\"]);\n"
   ]
  },
  {
   "cell_type": "markdown",
   "metadata": {},
   "source": [
    "## Get mapping"
   ]
  },
  {
   "cell_type": "code",
   "execution_count": null,
   "metadata": {},
   "outputs": [
    {
     "name": "stdout",
     "output_type": "stream",
     "text": [
      "{\n",
      "  created_on: { type: \"date\" },\n",
      "  text: {\n",
      "    type: \"text\",\n",
      "    fields: { keyword: { type: \"keyword\", ignore_above: 256 } }\n",
      "  },\n",
      "  title: {\n",
      "    type: \"text\",\n",
      "    fields: { keyword: { type: \"keyword\", ignore_above: 256 } }\n",
      "  }\n",
      "}\n"
     ]
    }
   ],
   "source": [
    "const indexMapping = await client.indices.getMapping({ index: \"my_index\" });\n",
    "\n",
    "console.log(indexMapping[\"my_index\"][\"mappings\"][\"properties\"]);\n"
   ]
  },
  {
   "cell_type": "markdown",
   "metadata": {},
   "source": [
    "## Create index with manual mapping"
   ]
  },
  {
   "cell_type": "code",
   "execution_count": null,
   "metadata": {},
   "outputs": [
    {
     "name": "stdout",
     "output_type": "stream",
     "text": [
      "{\n",
      "  created_on: { type: \"date\" },\n",
      "  text: {\n",
      "    type: \"text\",\n",
      "    fields: { keyword: { type: \"keyword\", ignore_above: 256 } }\n",
      "  },\n",
      "  title: {\n",
      "    type: \"text\",\n",
      "    fields: { keyword: { type: \"keyword\", ignore_above: 256 } }\n",
      "  }\n",
      "}\n"
     ]
    }
   ],
   "source": [
    "const mapping = {\n",
    "  properties: {\n",
    "    created_on: { type: \"date\" },\n",
    "    text: {\n",
    "      type: \"text\",\n",
    "      fields: {\n",
    "        keyword: {\n",
    "          type: \"keyword\",\n",
    "          ignore_above: 256,\n",
    "        },\n",
    "      },\n",
    "    },\n",
    "    title: {\n",
    "      type: \"text\",\n",
    "      fields: {\n",
    "        keyword: {\n",
    "          type: \"keyword\",\n",
    "          ignore_above: 256,\n",
    "        },\n",
    "      },\n",
    "    },\n",
    "  },\n",
    "};\n",
    "\n",
    "await client.indices.delete({ index: \"my_index\", ignore_unavailable: true });\n",
    "await client.indices.create({ index: \"my_index\", mappings: mapping });\n",
    "\n",
    "const indexMapping = await client.indices.getMapping({ index: \"my_index\" });\n",
    "\n",
    "console.log(indexMapping[\"my_index\"][\"mappings\"][\"properties\"]);\n"
   ]
  }
 ],
 "metadata": {
  "kernelspec": {
   "display_name": "Deno",
   "language": "typescript",
   "name": "deno"
  },
  "language_info": {
   "codemirror_mode": "typescript",
   "file_extension": ".ts",
   "mimetype": "text/x.typescript",
   "name": "typescript",
   "nbconvert_exporter": "script",
   "pygments_lexer": "typescript",
   "version": "5.7.3"
  }
 },
 "nbformat": 4,
 "nbformat_minor": 2
}
